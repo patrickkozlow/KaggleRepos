{
 "cells": [
  {
   "cell_type": "markdown",
   "id": "80785f3c",
   "metadata": {
    "papermill": {
     "duration": 0.055018,
     "end_time": "2022-05-12T05:35:53.587869",
     "exception": false,
     "start_time": "2022-05-12T05:35:53.532851",
     "status": "completed"
    },
    "tags": []
   },
   "source": [
    "# Introduction\n",
    "In this script I made some EDA graphs and used three classification algorithms to predict income. To improve accuracy I tuned the algorithm's parameters. \n",
    "Here I compare the DecisionTreeClassifier, LogisticRegression and KNeighborsClassifier. "
   ]
  },
  {
   "cell_type": "code",
   "execution_count": 1,
   "id": "830d47be",
   "metadata": {
    "_cell_guid": "b1076dfc-b9ad-4769-8c92-a6c4dae69d19",
    "_uuid": "8f2839f25d086af736a60e9eeb907d3b93b6e0e5",
    "execution": {
     "iopub.execute_input": "2022-05-12T05:35:53.699732Z",
     "iopub.status.busy": "2022-05-12T05:35:53.698473Z",
     "iopub.status.idle": "2022-05-12T05:35:55.087921Z",
     "shell.execute_reply": "2022-05-12T05:35:55.087151Z",
     "shell.execute_reply.started": "2022-05-12T05:07:00.981835Z"
    },
    "papermill": {
     "duration": 1.446885,
     "end_time": "2022-05-12T05:35:55.088092",
     "exception": false,
     "start_time": "2022-05-12T05:35:53.641207",
     "status": "completed"
    },
    "tags": []
   },
   "outputs": [],
   "source": [
    "import numpy as np\n",
    "import pandas as pd\n",
    "\n",
    "import matplotlib.pyplot as plt\n",
    "import seaborn as sns\n",
    "\n",
    "from sklearn.preprocessing import MinMaxScaler\n",
    "from sklearn.model_selection import train_test_split\n",
    "\n",
    "from sklearn.tree import DecisionTreeClassifier\n",
    "from sklearn.linear_model import LogisticRegression\n",
    "from sklearn.neighbors import KNeighborsClassifier\n",
    "# from sklearn.naive_bayes import GaussianNB\n",
    "# from sklearn.svm import SVC\n",
    "\n",
    "from sklearn.metrics import accuracy_score"
   ]
  },
  {
   "cell_type": "markdown",
   "id": "972be71e",
   "metadata": {
    "papermill": {
     "duration": 0.049358,
     "end_time": "2022-05-12T05:35:55.188420",
     "exception": false,
     "start_time": "2022-05-12T05:35:55.139062",
     "status": "completed"
    },
    "tags": []
   },
   "source": [
    "# 1. Exploratory Data Analysis"
   ]
  },
  {
   "cell_type": "code",
   "execution_count": 2,
   "id": "86b870c0",
   "metadata": {
    "execution": {
     "iopub.execute_input": "2022-05-12T05:35:55.292327Z",
     "iopub.status.busy": "2022-05-12T05:35:55.291627Z",
     "iopub.status.idle": "2022-05-12T05:35:55.296101Z",
     "shell.execute_reply": "2022-05-12T05:35:55.296677Z",
     "shell.execute_reply.started": "2022-05-12T05:07:02.198646Z"
    },
    "papermill": {
     "duration": 0.058239,
     "end_time": "2022-05-12T05:35:55.296871",
     "exception": false,
     "start_time": "2022-05-12T05:35:55.238632",
     "status": "completed"
    },
    "tags": []
   },
   "outputs": [],
   "source": [
    "pd.set_option('float_format', '{:.3f}'.format)"
   ]
  },
  {
   "cell_type": "code",
   "execution_count": 3,
   "id": "bc3de244",
   "metadata": {
    "execution": {
     "iopub.execute_input": "2022-05-12T05:35:55.401490Z",
     "iopub.status.busy": "2022-05-12T05:35:55.400815Z",
     "iopub.status.idle": "2022-05-12T05:35:55.547245Z",
     "shell.execute_reply": "2022-05-12T05:35:55.547798Z",
     "shell.execute_reply.started": "2022-05-12T05:07:02.205947Z"
    },
    "papermill": {
     "duration": 0.20044,
     "end_time": "2022-05-12T05:35:55.547980",
     "exception": false,
     "start_time": "2022-05-12T05:35:55.347540",
     "status": "completed"
    },
    "tags": []
   },
   "outputs": [
    {
     "data": {
      "text/html": [
       "<div>\n",
       "<style scoped>\n",
       "    .dataframe tbody tr th:only-of-type {\n",
       "        vertical-align: middle;\n",
       "    }\n",
       "\n",
       "    .dataframe tbody tr th {\n",
       "        vertical-align: top;\n",
       "    }\n",
       "\n",
       "    .dataframe thead th {\n",
       "        text-align: right;\n",
       "    }\n",
       "</style>\n",
       "<table border=\"1\" class=\"dataframe\">\n",
       "  <thead>\n",
       "    <tr style=\"text-align: right;\">\n",
       "      <th></th>\n",
       "      <th>age</th>\n",
       "      <th>workclass</th>\n",
       "      <th>fnlwgt</th>\n",
       "      <th>education</th>\n",
       "      <th>education-num</th>\n",
       "      <th>marital-status</th>\n",
       "      <th>occupation</th>\n",
       "      <th>relationship</th>\n",
       "      <th>race</th>\n",
       "      <th>sex</th>\n",
       "      <th>capital-gain</th>\n",
       "      <th>capital-loss</th>\n",
       "      <th>hours-per-week</th>\n",
       "      <th>native-country</th>\n",
       "      <th>income</th>\n",
       "    </tr>\n",
       "  </thead>\n",
       "  <tbody>\n",
       "    <tr>\n",
       "      <th>0</th>\n",
       "      <td>39</td>\n",
       "      <td>State-gov</td>\n",
       "      <td>77516</td>\n",
       "      <td>Bachelors</td>\n",
       "      <td>13</td>\n",
       "      <td>Never-married</td>\n",
       "      <td>Adm-clerical</td>\n",
       "      <td>Not-in-family</td>\n",
       "      <td>White</td>\n",
       "      <td>Male</td>\n",
       "      <td>2174</td>\n",
       "      <td>0</td>\n",
       "      <td>40</td>\n",
       "      <td>United-States</td>\n",
       "      <td>&lt;=50K</td>\n",
       "    </tr>\n",
       "    <tr>\n",
       "      <th>1</th>\n",
       "      <td>50</td>\n",
       "      <td>Self-emp-not-inc</td>\n",
       "      <td>83311</td>\n",
       "      <td>Bachelors</td>\n",
       "      <td>13</td>\n",
       "      <td>Married-civ-spouse</td>\n",
       "      <td>Exec-managerial</td>\n",
       "      <td>Husband</td>\n",
       "      <td>White</td>\n",
       "      <td>Male</td>\n",
       "      <td>0</td>\n",
       "      <td>0</td>\n",
       "      <td>13</td>\n",
       "      <td>United-States</td>\n",
       "      <td>&lt;=50K</td>\n",
       "    </tr>\n",
       "    <tr>\n",
       "      <th>2</th>\n",
       "      <td>38</td>\n",
       "      <td>Private</td>\n",
       "      <td>215646</td>\n",
       "      <td>HS-grad</td>\n",
       "      <td>9</td>\n",
       "      <td>Divorced</td>\n",
       "      <td>Handlers-cleaners</td>\n",
       "      <td>Not-in-family</td>\n",
       "      <td>White</td>\n",
       "      <td>Male</td>\n",
       "      <td>0</td>\n",
       "      <td>0</td>\n",
       "      <td>40</td>\n",
       "      <td>United-States</td>\n",
       "      <td>&lt;=50K</td>\n",
       "    </tr>\n",
       "    <tr>\n",
       "      <th>3</th>\n",
       "      <td>53</td>\n",
       "      <td>Private</td>\n",
       "      <td>234721</td>\n",
       "      <td>11th</td>\n",
       "      <td>7</td>\n",
       "      <td>Married-civ-spouse</td>\n",
       "      <td>Handlers-cleaners</td>\n",
       "      <td>Husband</td>\n",
       "      <td>Black</td>\n",
       "      <td>Male</td>\n",
       "      <td>0</td>\n",
       "      <td>0</td>\n",
       "      <td>40</td>\n",
       "      <td>United-States</td>\n",
       "      <td>&lt;=50K</td>\n",
       "    </tr>\n",
       "    <tr>\n",
       "      <th>4</th>\n",
       "      <td>28</td>\n",
       "      <td>Private</td>\n",
       "      <td>338409</td>\n",
       "      <td>Bachelors</td>\n",
       "      <td>13</td>\n",
       "      <td>Married-civ-spouse</td>\n",
       "      <td>Prof-specialty</td>\n",
       "      <td>Wife</td>\n",
       "      <td>Black</td>\n",
       "      <td>Female</td>\n",
       "      <td>0</td>\n",
       "      <td>0</td>\n",
       "      <td>40</td>\n",
       "      <td>Cuba</td>\n",
       "      <td>&lt;=50K</td>\n",
       "    </tr>\n",
       "  </tbody>\n",
       "</table>\n",
       "</div>"
      ],
      "text/plain": [
       "   age          workclass   fnlwgt   education   education-num  \\\n",
       "0   39          State-gov    77516   Bachelors              13   \n",
       "1   50   Self-emp-not-inc    83311   Bachelors              13   \n",
       "2   38            Private   215646     HS-grad               9   \n",
       "3   53            Private   234721        11th               7   \n",
       "4   28            Private   338409   Bachelors              13   \n",
       "\n",
       "        marital-status          occupation    relationship    race      sex  \\\n",
       "0        Never-married        Adm-clerical   Not-in-family   White     Male   \n",
       "1   Married-civ-spouse     Exec-managerial         Husband   White     Male   \n",
       "2             Divorced   Handlers-cleaners   Not-in-family   White     Male   \n",
       "3   Married-civ-spouse   Handlers-cleaners         Husband   Black     Male   \n",
       "4   Married-civ-spouse      Prof-specialty            Wife   Black   Female   \n",
       "\n",
       "    capital-gain   capital-loss   hours-per-week  native-country  income  \n",
       "0           2174              0               40   United-States   <=50K  \n",
       "1              0              0               13   United-States   <=50K  \n",
       "2              0              0               40   United-States   <=50K  \n",
       "3              0              0               40   United-States   <=50K  \n",
       "4              0              0               40            Cuba   <=50K  "
      ]
     },
     "execution_count": 3,
     "metadata": {},
     "output_type": "execute_result"
    }
   ],
   "source": [
    "df = pd.read_csv('../input/income-classification/income_evaluation.csv')\n",
    "df.head()"
   ]
  },
  {
   "cell_type": "code",
   "execution_count": 4,
   "id": "61a7be66",
   "metadata": {
    "execution": {
     "iopub.execute_input": "2022-05-12T05:35:55.655222Z",
     "iopub.status.busy": "2022-05-12T05:35:55.654542Z",
     "iopub.status.idle": "2022-05-12T05:35:55.656324Z",
     "shell.execute_reply": "2022-05-12T05:35:55.656942Z",
     "shell.execute_reply.started": "2022-05-12T05:07:02.361046Z"
    },
    "papermill": {
     "duration": 0.058224,
     "end_time": "2022-05-12T05:35:55.657119",
     "exception": false,
     "start_time": "2022-05-12T05:35:55.598895",
     "status": "completed"
    },
    "tags": []
   },
   "outputs": [],
   "source": [
    "# removing redundant spaces from column names\n",
    "df.columns = list(map(lambda a: a.lstrip(), df.columns))"
   ]
  },
  {
   "cell_type": "code",
   "execution_count": 5,
   "id": "fcfeab67",
   "metadata": {
    "execution": {
     "iopub.execute_input": "2022-05-12T05:35:55.772211Z",
     "iopub.status.busy": "2022-05-12T05:35:55.771550Z",
     "iopub.status.idle": "2022-05-12T05:35:55.812024Z",
     "shell.execute_reply": "2022-05-12T05:35:55.811009Z",
     "shell.execute_reply.started": "2022-05-12T05:07:02.367686Z"
    },
    "papermill": {
     "duration": 0.104274,
     "end_time": "2022-05-12T05:35:55.812238",
     "exception": false,
     "start_time": "2022-05-12T05:35:55.707964",
     "status": "completed"
    },
    "tags": []
   },
   "outputs": [
    {
     "name": "stdout",
     "output_type": "stream",
     "text": [
      "There are no missing values in the data.\n"
     ]
    }
   ],
   "source": [
    " print('Check the data. Some values are missing.') if df.isnull().any().any() else print(\"There are no missing values in the data.\")"
   ]
  },
  {
   "cell_type": "code",
   "execution_count": 6,
   "id": "b8d287ec",
   "metadata": {
    "execution": {
     "iopub.execute_input": "2022-05-12T05:35:55.939695Z",
     "iopub.status.busy": "2022-05-12T05:35:55.938800Z",
     "iopub.status.idle": "2022-05-12T05:35:55.942142Z",
     "shell.execute_reply": "2022-05-12T05:35:55.942650Z",
     "shell.execute_reply.started": "2022-05-12T05:07:02.413131Z"
    },
    "papermill": {
     "duration": 0.074582,
     "end_time": "2022-05-12T05:35:55.942820",
     "exception": false,
     "start_time": "2022-05-12T05:35:55.868238",
     "status": "completed"
    },
    "tags": []
   },
   "outputs": [
    {
     "data": {
      "text/plain": [
       " Private             22696\n",
       " Self-emp-not-inc     2541\n",
       " Local-gov            2093\n",
       " ?                    1836\n",
       " State-gov            1298\n",
       " Self-emp-inc         1116\n",
       " Federal-gov           960\n",
       " Without-pay            14\n",
       " Never-worked            7\n",
       "Name: workclass, dtype: int64"
      ]
     },
     "execution_count": 6,
     "metadata": {},
     "output_type": "execute_result"
    }
   ],
   "source": [
    "df['workclass'].value_counts()"
   ]
  },
  {
   "cell_type": "markdown",
   "id": "1769859c",
   "metadata": {
    "papermill": {
     "duration": 0.050906,
     "end_time": "2022-05-12T05:35:56.044861",
     "exception": false,
     "start_time": "2022-05-12T05:35:55.993955",
     "status": "completed"
    },
    "tags": []
   },
   "source": [
    "There are question marks in the columns instead of 'NaN' or 'None' values. Question marks signalize missing values, that is why they will be removed."
   ]
  },
  {
   "cell_type": "code",
   "execution_count": 7,
   "id": "725d2dd1",
   "metadata": {
    "execution": {
     "iopub.execute_input": "2022-05-12T05:35:56.152255Z",
     "iopub.status.busy": "2022-05-12T05:35:56.151313Z",
     "iopub.status.idle": "2022-05-12T05:35:56.229995Z",
     "shell.execute_reply": "2022-05-12T05:35:56.229190Z",
     "shell.execute_reply.started": "2022-05-12T05:07:02.433367Z"
    },
    "papermill": {
     "duration": 0.132936,
     "end_time": "2022-05-12T05:35:56.230184",
     "exception": false,
     "start_time": "2022-05-12T05:35:56.097248",
     "status": "completed"
    },
    "tags": []
   },
   "outputs": [
    {
     "name": "stdout",
     "output_type": "stream",
     "text": [
      "2399 rows have been removed.\n"
     ]
    }
   ],
   "source": [
    "shape0 = df.shape[0]\n",
    "for column in df.columns:\n",
    "    df[column].replace(' ?', np.NaN, inplace=True)\n",
    "df = df.dropna().reset_index().drop(columns=['index'])\n",
    "shape1 = df.shape[0]\n",
    "print(str(shape0 - shape1) + ' rows have been removed.')"
   ]
  },
  {
   "cell_type": "code",
   "execution_count": 8,
   "id": "3b6f594f",
   "metadata": {
    "execution": {
     "iopub.execute_input": "2022-05-12T05:35:56.342860Z",
     "iopub.status.busy": "2022-05-12T05:35:56.342188Z",
     "iopub.status.idle": "2022-05-12T05:35:56.352361Z",
     "shell.execute_reply": "2022-05-12T05:35:56.352875Z",
     "shell.execute_reply.started": "2022-05-12T05:07:02.514383Z"
    },
    "papermill": {
     "duration": 0.067795,
     "end_time": "2022-05-12T05:35:56.353044",
     "exception": false,
     "start_time": "2022-05-12T05:35:56.285249",
     "status": "completed"
    },
    "tags": []
   },
   "outputs": [
    {
     "data": {
      "text/plain": [
       " Private             22286\n",
       " Self-emp-not-inc     2499\n",
       " Local-gov            2067\n",
       " State-gov            1279\n",
       " Self-emp-inc         1074\n",
       " Federal-gov           943\n",
       " Without-pay            14\n",
       "Name: workclass, dtype: int64"
      ]
     },
     "execution_count": 8,
     "metadata": {},
     "output_type": "execute_result"
    }
   ],
   "source": [
    "df['workclass'].value_counts()"
   ]
  },
  {
   "cell_type": "markdown",
   "id": "8ea8caf3",
   "metadata": {
    "papermill": {
     "duration": 0.051892,
     "end_time": "2022-05-12T05:35:56.457424",
     "exception": false,
     "start_time": "2022-05-12T05:35:56.405532",
     "status": "completed"
    },
    "tags": []
   },
   "source": [
    "## 1.1 Adjusting income column to binary type"
   ]
  },
  {
   "cell_type": "code",
   "execution_count": 9,
   "id": "1cac5532",
   "metadata": {
    "execution": {
     "iopub.execute_input": "2022-05-12T05:35:56.568426Z",
     "iopub.status.busy": "2022-05-12T05:35:56.567435Z",
     "iopub.status.idle": "2022-05-12T05:35:56.579334Z",
     "shell.execute_reply": "2022-05-12T05:35:56.579868Z",
     "shell.execute_reply.started": "2022-05-12T05:07:02.528085Z"
    },
    "papermill": {
     "duration": 0.068678,
     "end_time": "2022-05-12T05:35:56.580041",
     "exception": false,
     "start_time": "2022-05-12T05:35:56.511363",
     "status": "completed"
    },
    "tags": []
   },
   "outputs": [
    {
     "data": {
      "text/plain": [
       " <=50K    22654\n",
       " >50K      7508\n",
       "Name: income, dtype: int64"
      ]
     },
     "execution_count": 9,
     "metadata": {},
     "output_type": "execute_result"
    }
   ],
   "source": [
    "income = df.income.value_counts()\n",
    "income"
   ]
  },
  {
   "cell_type": "code",
   "execution_count": 10,
   "id": "a30ffefd",
   "metadata": {
    "execution": {
     "iopub.execute_input": "2022-05-12T05:35:56.691615Z",
     "iopub.status.busy": "2022-05-12T05:35:56.690861Z",
     "iopub.status.idle": "2022-05-12T05:35:57.023953Z",
     "shell.execute_reply": "2022-05-12T05:35:57.023224Z",
     "shell.execute_reply.started": "2022-05-12T05:07:02.545329Z"
    },
    "papermill": {
     "duration": 0.39169,
     "end_time": "2022-05-12T05:35:57.024107",
     "exception": false,
     "start_time": "2022-05-12T05:35:56.632417",
     "status": "completed"
    },
    "tags": []
   },
   "outputs": [
    {
     "data": {
      "text/plain": [
       "<matplotlib.legend.Legend at 0x7f5a8154a3d0>"
      ]
     },
     "execution_count": 10,
     "metadata": {},
     "output_type": "execute_result"
    },
    {
     "data": {
      "image/png": "[encoded data removed]",
      "text/plain": [
       "<Figure size 432x288 with 1 Axes>"
      ]
     },
     "metadata": {},
     "output_type": "display_data"
    }
   ],
   "source": [
    "colors = ['#ADEFD1FF', '#00203FFF']\n",
    "explode = [0, 0.1]\n",
    "plt.pie(income, labels=income.values, colors=colors, explode = explode, shadow=True)\n",
    "plt.title('Income distribution')\n",
    "plt.legend(labels=income.index)"
   ]
  },
  {
   "cell_type": "code",
   "execution_count": 11,
   "id": "e104b76d",
   "metadata": {
    "execution": {
     "iopub.execute_input": "2022-05-12T05:35:57.156697Z",
     "iopub.status.busy": "2022-05-12T05:35:57.142559Z",
     "iopub.status.idle": "2022-05-12T05:35:57.160889Z",
     "shell.execute_reply": "2022-05-12T05:35:57.160212Z",
     "shell.execute_reply.started": "2022-05-12T05:07:02.876351Z"
    },
    "papermill": {
     "duration": 0.082566,
     "end_time": "2022-05-12T05:35:57.161030",
     "exception": false,
     "start_time": "2022-05-12T05:35:57.078464",
     "status": "completed"
    },
    "tags": []
   },
   "outputs": [],
   "source": [
    "# changing string to binary values.\n",
    "df['income'].replace([' <=50K',' >50K'],[1,0], inplace=True)"
   ]
  },
  {
   "cell_type": "markdown",
   "id": "1dbaf10a",
   "metadata": {
    "papermill": {
     "duration": 0.054095,
     "end_time": "2022-05-12T05:35:57.268777",
     "exception": false,
     "start_time": "2022-05-12T05:35:57.214682",
     "status": "completed"
    },
    "tags": []
   },
   "source": [
    "## 1.2 Creating correlation heatmap"
   ]
  },
  {
   "cell_type": "code",
   "execution_count": 12,
   "id": "5ae47b70",
   "metadata": {
    "execution": {
     "iopub.execute_input": "2022-05-12T05:35:57.384195Z",
     "iopub.status.busy": "2022-05-12T05:35:57.383515Z",
     "iopub.status.idle": "2022-05-12T05:35:57.386640Z",
     "shell.execute_reply": "2022-05-12T05:35:57.387089Z",
     "shell.execute_reply.started": "2022-05-12T05:07:02.904865Z"
    },
    "papermill": {
     "duration": 0.063926,
     "end_time": "2022-05-12T05:35:57.387263",
     "exception": false,
     "start_time": "2022-05-12T05:35:57.323337",
     "status": "completed"
    },
    "tags": []
   },
   "outputs": [
    {
     "data": {
      "text/plain": [
       "age                int64\n",
       "workclass         object\n",
       "fnlwgt             int64\n",
       "education         object\n",
       "education-num      int64\n",
       "marital-status    object\n",
       "occupation        object\n",
       "relationship      object\n",
       "race              object\n",
       "sex               object\n",
       "capital-gain       int64\n",
       "capital-loss       int64\n",
       "hours-per-week     int64\n",
       "native-country    object\n",
       "income             int64\n",
       "dtype: object"
      ]
     },
     "execution_count": 12,
     "metadata": {},
     "output_type": "execute_result"
    }
   ],
   "source": [
    "# checking types of variables\n",
    "df.dtypes"
   ]
  },
  {
   "cell_type": "code",
   "execution_count": 13,
   "id": "40f149c7",
   "metadata": {
    "execution": {
     "iopub.execute_input": "2022-05-12T05:35:57.501786Z",
     "iopub.status.busy": "2022-05-12T05:35:57.497965Z",
     "iopub.status.idle": "2022-05-12T05:35:57.508645Z",
     "shell.execute_reply": "2022-05-12T05:35:57.507950Z",
     "shell.execute_reply.started": "2022-05-12T05:07:02.916683Z"
    },
    "papermill": {
     "duration": 0.067533,
     "end_time": "2022-05-12T05:35:57.508797",
     "exception": false,
     "start_time": "2022-05-12T05:35:57.441264",
     "status": "completed"
    },
    "tags": []
   },
   "outputs": [],
   "source": [
    "# object type variables cannot be included in a correlation heatmap.\n",
    "stats = df.select_dtypes(['float', 'int64']).drop(columns=['income'])"
   ]
  },
  {
   "cell_type": "code",
   "execution_count": 14,
   "id": "48532611",
   "metadata": {
    "execution": {
     "iopub.execute_input": "2022-05-12T05:35:57.628751Z",
     "iopub.status.busy": "2022-05-12T05:35:57.625899Z",
     "iopub.status.idle": "2022-05-12T05:35:58.291489Z",
     "shell.execute_reply": "2022-05-12T05:35:58.290830Z",
     "shell.execute_reply.started": "2022-05-12T05:07:02.929490Z"
    },
    "papermill": {
     "duration": 0.727011,
     "end_time": "2022-05-12T05:35:58.291645",
     "exception": false,
     "start_time": "2022-05-12T05:35:57.564634",
     "status": "completed"
    },
    "tags": []
   },
   "outputs": [
    {
     "data": {
      "text/plain": [
       "<AxesSubplot:>"
      ]
     },
     "execution_count": 14,
     "metadata": {},
     "output_type": "execute_result"
    },
    {
     "data": {
      "image/png": "[encoded data removed]",
      "text/plain": [
       "<Figure size 1008x1008 with 2 Axes>"
      ]
     },
     "metadata": {
      "needs_background": "light"
     },
     "output_type": "display_data"
    }
   ],
   "source": [
    "fig = plt.figure(figsize=(14,14))\n",
    "corr = stats.corr()\n",
    "sns.heatmap(corr,\n",
    "            vmin=-1, vmax=1, center=0, \n",
    "            cmap=sns.diverging_palette(h_neg=250, h_pos=15, as_cmap=True),\n",
    "            square=True, annot=True)"
   ]
  },
  {
   "cell_type": "markdown",
   "id": "7f33f4e3",
   "metadata": {
    "papermill": {
     "duration": 0.055595,
     "end_time": "2022-05-12T05:35:58.404869",
     "exception": false,
     "start_time": "2022-05-12T05:35:58.349274",
     "status": "completed"
    },
    "tags": []
   },
   "source": [
    "There is barely correlation between all numeric variables."
   ]
  },
  {
   "cell_type": "markdown",
   "id": "97b5dd00",
   "metadata": {
    "papermill": {
     "duration": 0.055723,
     "end_time": "2022-05-12T05:35:58.516377",
     "exception": false,
     "start_time": "2022-05-12T05:35:58.460654",
     "status": "completed"
    },
    "tags": []
   },
   "source": [
    "## 1.2 Creating density functions and boxplots"
   ]
  },
  {
   "cell_type": "code",
   "execution_count": 15,
   "id": "6a09e831",
   "metadata": {
    "execution": {
     "iopub.execute_input": "2022-05-12T05:35:58.637276Z",
     "iopub.status.busy": "2022-05-12T05:35:58.636496Z",
     "iopub.status.idle": "2022-05-12T05:35:58.669937Z",
     "shell.execute_reply": "2022-05-12T05:35:58.670439Z",
     "shell.execute_reply.started": "2022-05-12T05:07:03.607436Z"
    },
    "papermill": {
     "duration": 0.097098,
     "end_time": "2022-05-12T05:35:58.670628",
     "exception": false,
     "start_time": "2022-05-12T05:35:58.573530",
     "status": "completed"
    },
    "tags": []
   },
   "outputs": [
    {
     "data": {
      "text/html": [
       "<div>\n",
       "<style scoped>\n",
       "    .dataframe tbody tr th:only-of-type {\n",
       "        vertical-align: middle;\n",
       "    }\n",
       "\n",
       "    .dataframe tbody tr th {\n",
       "        vertical-align: top;\n",
       "    }\n",
       "\n",
       "    .dataframe thead th {\n",
       "        text-align: right;\n",
       "    }\n",
       "</style>\n",
       "<table border=\"1\" class=\"dataframe\">\n",
       "  <thead>\n",
       "    <tr style=\"text-align: right;\">\n",
       "      <th></th>\n",
       "      <th>count</th>\n",
       "      <th>mean</th>\n",
       "      <th>std</th>\n",
       "      <th>min</th>\n",
       "      <th>25%</th>\n",
       "      <th>50%</th>\n",
       "      <th>75%</th>\n",
       "      <th>max</th>\n",
       "    </tr>\n",
       "  </thead>\n",
       "  <tbody>\n",
       "    <tr>\n",
       "      <th>age</th>\n",
       "      <td>30162.000</td>\n",
       "      <td>38.438</td>\n",
       "      <td>13.135</td>\n",
       "      <td>17.000</td>\n",
       "      <td>28.000</td>\n",
       "      <td>37.000</td>\n",
       "      <td>47.000</td>\n",
       "      <td>90.000</td>\n",
       "    </tr>\n",
       "    <tr>\n",
       "      <th>fnlwgt</th>\n",
       "      <td>30162.000</td>\n",
       "      <td>189793.834</td>\n",
       "      <td>105652.972</td>\n",
       "      <td>13769.000</td>\n",
       "      <td>117627.250</td>\n",
       "      <td>178425.000</td>\n",
       "      <td>237628.500</td>\n",
       "      <td>1484705.000</td>\n",
       "    </tr>\n",
       "    <tr>\n",
       "      <th>education-num</th>\n",
       "      <td>30162.000</td>\n",
       "      <td>10.121</td>\n",
       "      <td>2.550</td>\n",
       "      <td>1.000</td>\n",
       "      <td>9.000</td>\n",
       "      <td>10.000</td>\n",
       "      <td>13.000</td>\n",
       "      <td>16.000</td>\n",
       "    </tr>\n",
       "    <tr>\n",
       "      <th>capital-gain</th>\n",
       "      <td>30162.000</td>\n",
       "      <td>1092.008</td>\n",
       "      <td>7406.346</td>\n",
       "      <td>0.000</td>\n",
       "      <td>0.000</td>\n",
       "      <td>0.000</td>\n",
       "      <td>0.000</td>\n",
       "      <td>99999.000</td>\n",
       "    </tr>\n",
       "    <tr>\n",
       "      <th>capital-loss</th>\n",
       "      <td>30162.000</td>\n",
       "      <td>88.372</td>\n",
       "      <td>404.298</td>\n",
       "      <td>0.000</td>\n",
       "      <td>0.000</td>\n",
       "      <td>0.000</td>\n",
       "      <td>0.000</td>\n",
       "      <td>4356.000</td>\n",
       "    </tr>\n",
       "    <tr>\n",
       "      <th>hours-per-week</th>\n",
       "      <td>30162.000</td>\n",
       "      <td>40.931</td>\n",
       "      <td>11.980</td>\n",
       "      <td>1.000</td>\n",
       "      <td>40.000</td>\n",
       "      <td>40.000</td>\n",
       "      <td>45.000</td>\n",
       "      <td>99.000</td>\n",
       "    </tr>\n",
       "  </tbody>\n",
       "</table>\n",
       "</div>"
      ],
      "text/plain": [
       "                   count       mean        std       min        25%  \\\n",
       "age            30162.000     38.438     13.135    17.000     28.000   \n",
       "fnlwgt         30162.000 189793.834 105652.972 13769.000 117627.250   \n",
       "education-num  30162.000     10.121      2.550     1.000      9.000   \n",
       "capital-gain   30162.000   1092.008   7406.346     0.000      0.000   \n",
       "capital-loss   30162.000     88.372    404.298     0.000      0.000   \n",
       "hours-per-week 30162.000     40.931     11.980     1.000     40.000   \n",
       "\n",
       "                      50%        75%         max  \n",
       "age                37.000     47.000      90.000  \n",
       "fnlwgt         178425.000 237628.500 1484705.000  \n",
       "education-num      10.000     13.000      16.000  \n",
       "capital-gain        0.000      0.000   99999.000  \n",
       "capital-loss        0.000      0.000    4356.000  \n",
       "hours-per-week     40.000     45.000      99.000  "
      ]
     },
     "execution_count": 15,
     "metadata": {},
     "output_type": "execute_result"
    }
   ],
   "source": [
    "stats.describe().transpose()"
   ]
  },
  {
   "cell_type": "code",
   "execution_count": 16,
   "id": "72ac68e7",
   "metadata": {
    "execution": {
     "iopub.execute_input": "2022-05-12T05:35:58.794845Z",
     "iopub.status.busy": "2022-05-12T05:35:58.794055Z",
     "iopub.status.idle": "2022-05-12T05:36:01.762792Z",
     "shell.execute_reply": "2022-05-12T05:36:01.763313Z",
     "shell.execute_reply.started": "2022-05-12T05:07:03.644923Z"
    },
    "papermill": {
     "duration": 3.036078,
     "end_time": "2022-05-12T05:36:01.763514",
     "exception": false,
     "start_time": "2022-05-12T05:35:58.727436",
     "status": "completed"
    },
    "scrolled": true,
    "tags": []
   },
   "outputs": [
    {
     "data": {
      "image/png": "[encoded data removed]",
      "text/plain": [
       "<Figure size 864x2016 with 12 Axes>"
      ]
     },
     "metadata": {
      "needs_background": "light"
     },
     "output_type": "display_data"
    }
   ],
   "source": [
    "# creating graphs\n",
    "colors = list(sns.color_palette(\"Paired\"))\n",
    "fig, ax = plt.subplots(nrows=6, ncols=2, figsize=(12,28))\n",
    "for i in range(6):\n",
    "    sns.kdeplot(stats.iloc[:, i], \n",
    "                shade = True, \n",
    "                color = colors[i*2+1], \n",
    "                ax=ax[i, 0]).set(ylabel = '', xlabel = stats.columns[i])\n",
    "    \n",
    "    sns.boxplot(data=stats.iloc[:, i],\n",
    "                color = colors[i*2], orient=\"h\",\n",
    "                ax=ax[i, 1]).set(xlabel = '', ylabel = '')\n",
    "plt.show()"
   ]
  },
  {
   "cell_type": "markdown",
   "id": "a0f261e8",
   "metadata": {
    "papermill": {
     "duration": 0.063485,
     "end_time": "2022-05-12T05:36:01.887553",
     "exception": false,
     "start_time": "2022-05-12T05:36:01.824068",
     "status": "completed"
    },
    "tags": []
   },
   "source": [
    "# 2. Standardization and preparing variables"
   ]
  },
  {
   "cell_type": "code",
   "execution_count": 17,
   "id": "3dae7ba4",
   "metadata": {
    "execution": {
     "iopub.execute_input": "2022-05-12T05:36:02.017409Z",
     "iopub.status.busy": "2022-05-12T05:36:02.016570Z",
     "iopub.status.idle": "2022-05-12T05:36:02.077011Z",
     "shell.execute_reply": "2022-05-12T05:36:02.076200Z",
     "shell.execute_reply.started": "2022-05-12T05:07:06.605170Z"
    },
    "papermill": {
     "duration": 0.128098,
     "end_time": "2022-05-12T05:36:02.077178",
     "exception": false,
     "start_time": "2022-05-12T05:36:01.949080",
     "status": "completed"
    },
    "tags": []
   },
   "outputs": [
    {
     "data": {
      "text/html": [
       "<div>\n",
       "<style scoped>\n",
       "    .dataframe tbody tr th:only-of-type {\n",
       "        vertical-align: middle;\n",
       "    }\n",
       "\n",
       "    .dataframe tbody tr th {\n",
       "        vertical-align: top;\n",
       "    }\n",
       "\n",
       "    .dataframe thead th {\n",
       "        text-align: right;\n",
       "    }\n",
       "</style>\n",
       "<table border=\"1\" class=\"dataframe\">\n",
       "  <thead>\n",
       "    <tr style=\"text-align: right;\">\n",
       "      <th></th>\n",
       "      <th>age</th>\n",
       "      <th>fnlwgt</th>\n",
       "      <th>education-num</th>\n",
       "      <th>capital-gain</th>\n",
       "      <th>capital-loss</th>\n",
       "      <th>hours-per-week</th>\n",
       "      <th>income</th>\n",
       "      <th>workclass_ Federal-gov</th>\n",
       "      <th>workclass_ Local-gov</th>\n",
       "      <th>workclass_ Private</th>\n",
       "      <th>...</th>\n",
       "      <th>native-country_ Portugal</th>\n",
       "      <th>native-country_ Puerto-Rico</th>\n",
       "      <th>native-country_ Scotland</th>\n",
       "      <th>native-country_ South</th>\n",
       "      <th>native-country_ Taiwan</th>\n",
       "      <th>native-country_ Thailand</th>\n",
       "      <th>native-country_ Trinadad&amp;Tobago</th>\n",
       "      <th>native-country_ United-States</th>\n",
       "      <th>native-country_ Vietnam</th>\n",
       "      <th>native-country_ Yugoslavia</th>\n",
       "    </tr>\n",
       "  </thead>\n",
       "  <tbody>\n",
       "    <tr>\n",
       "      <th>0</th>\n",
       "      <td>39</td>\n",
       "      <td>77516</td>\n",
       "      <td>13</td>\n",
       "      <td>2174</td>\n",
       "      <td>0</td>\n",
       "      <td>40</td>\n",
       "      <td>1</td>\n",
       "      <td>0</td>\n",
       "      <td>0</td>\n",
       "      <td>0</td>\n",
       "      <td>...</td>\n",
       "      <td>0</td>\n",
       "      <td>0</td>\n",
       "      <td>0</td>\n",
       "      <td>0</td>\n",
       "      <td>0</td>\n",
       "      <td>0</td>\n",
       "      <td>0</td>\n",
       "      <td>1</td>\n",
       "      <td>0</td>\n",
       "      <td>0</td>\n",
       "    </tr>\n",
       "    <tr>\n",
       "      <th>1</th>\n",
       "      <td>50</td>\n",
       "      <td>83311</td>\n",
       "      <td>13</td>\n",
       "      <td>0</td>\n",
       "      <td>0</td>\n",
       "      <td>13</td>\n",
       "      <td>1</td>\n",
       "      <td>0</td>\n",
       "      <td>0</td>\n",
       "      <td>0</td>\n",
       "      <td>...</td>\n",
       "      <td>0</td>\n",
       "      <td>0</td>\n",
       "      <td>0</td>\n",
       "      <td>0</td>\n",
       "      <td>0</td>\n",
       "      <td>0</td>\n",
       "      <td>0</td>\n",
       "      <td>1</td>\n",
       "      <td>0</td>\n",
       "      <td>0</td>\n",
       "    </tr>\n",
       "    <tr>\n",
       "      <th>2</th>\n",
       "      <td>38</td>\n",
       "      <td>215646</td>\n",
       "      <td>9</td>\n",
       "      <td>0</td>\n",
       "      <td>0</td>\n",
       "      <td>40</td>\n",
       "      <td>1</td>\n",
       "      <td>0</td>\n",
       "      <td>0</td>\n",
       "      <td>1</td>\n",
       "      <td>...</td>\n",
       "      <td>0</td>\n",
       "      <td>0</td>\n",
       "      <td>0</td>\n",
       "      <td>0</td>\n",
       "      <td>0</td>\n",
       "      <td>0</td>\n",
       "      <td>0</td>\n",
       "      <td>1</td>\n",
       "      <td>0</td>\n",
       "      <td>0</td>\n",
       "    </tr>\n",
       "    <tr>\n",
       "      <th>3</th>\n",
       "      <td>53</td>\n",
       "      <td>234721</td>\n",
       "      <td>7</td>\n",
       "      <td>0</td>\n",
       "      <td>0</td>\n",
       "      <td>40</td>\n",
       "      <td>1</td>\n",
       "      <td>0</td>\n",
       "      <td>0</td>\n",
       "      <td>1</td>\n",
       "      <td>...</td>\n",
       "      <td>0</td>\n",
       "      <td>0</td>\n",
       "      <td>0</td>\n",
       "      <td>0</td>\n",
       "      <td>0</td>\n",
       "      <td>0</td>\n",
       "      <td>0</td>\n",
       "      <td>1</td>\n",
       "      <td>0</td>\n",
       "      <td>0</td>\n",
       "    </tr>\n",
       "    <tr>\n",
       "      <th>4</th>\n",
       "      <td>28</td>\n",
       "      <td>338409</td>\n",
       "      <td>13</td>\n",
       "      <td>0</td>\n",
       "      <td>0</td>\n",
       "      <td>40</td>\n",
       "      <td>1</td>\n",
       "      <td>0</td>\n",
       "      <td>0</td>\n",
       "      <td>1</td>\n",
       "      <td>...</td>\n",
       "      <td>0</td>\n",
       "      <td>0</td>\n",
       "      <td>0</td>\n",
       "      <td>0</td>\n",
       "      <td>0</td>\n",
       "      <td>0</td>\n",
       "      <td>0</td>\n",
       "      <td>0</td>\n",
       "      <td>0</td>\n",
       "      <td>0</td>\n",
       "    </tr>\n",
       "  </tbody>\n",
       "</table>\n",
       "<p>5 rows × 105 columns</p>\n",
       "</div>"
      ],
      "text/plain": [
       "   age  fnlwgt  education-num  capital-gain  capital-loss  hours-per-week  \\\n",
       "0   39   77516             13          2174             0              40   \n",
       "1   50   83311             13             0             0              13   \n",
       "2   38  215646              9             0             0              40   \n",
       "3   53  234721              7             0             0              40   \n",
       "4   28  338409             13             0             0              40   \n",
       "\n",
       "   income  workclass_ Federal-gov  workclass_ Local-gov  workclass_ Private  \\\n",
       "0       1                       0                     0                   0   \n",
       "1       1                       0                     0                   0   \n",
       "2       1                       0                     0                   1   \n",
       "3       1                       0                     0                   1   \n",
       "4       1                       0                     0                   1   \n",
       "\n",
       "   ...  native-country_ Portugal  native-country_ Puerto-Rico  \\\n",
       "0  ...                         0                            0   \n",
       "1  ...                         0                            0   \n",
       "2  ...                         0                            0   \n",
       "3  ...                         0                            0   \n",
       "4  ...                         0                            0   \n",
       "\n",
       "   native-country_ Scotland  native-country_ South  native-country_ Taiwan  \\\n",
       "0                         0                      0                       0   \n",
       "1                         0                      0                       0   \n",
       "2                         0                      0                       0   \n",
       "3                         0                      0                       0   \n",
       "4                         0                      0                       0   \n",
       "\n",
       "   native-country_ Thailand  native-country_ Trinadad&Tobago  \\\n",
       "0                         0                                0   \n",
       "1                         0                                0   \n",
       "2                         0                                0   \n",
       "3                         0                                0   \n",
       "4                         0                                0   \n",
       "\n",
       "   native-country_ United-States  native-country_ Vietnam  \\\n",
       "0                              1                        0   \n",
       "1                              1                        0   \n",
       "2                              1                        0   \n",
       "3                              1                        0   \n",
       "4                              0                        0   \n",
       "\n",
       "   native-country_ Yugoslavia  \n",
       "0                           0  \n",
       "1                           0  \n",
       "2                           0  \n",
       "3                           0  \n",
       "4                           0  \n",
       "\n",
       "[5 rows x 105 columns]"
      ]
     },
     "execution_count": 17,
     "metadata": {},
     "output_type": "execute_result"
    }
   ],
   "source": [
    "df_final = pd.get_dummies(df)\n",
    "df_final.head()"
   ]
  },
  {
   "cell_type": "code",
   "execution_count": 18,
   "id": "3bb2a0f8",
   "metadata": {
    "execution": {
     "iopub.execute_input": "2022-05-12T05:36:02.204713Z",
     "iopub.status.busy": "2022-05-12T05:36:02.203995Z",
     "iopub.status.idle": "2022-05-12T05:36:02.216262Z",
     "shell.execute_reply": "2022-05-12T05:36:02.216847Z",
     "shell.execute_reply.started": "2022-05-12T05:07:06.668771Z"
    },
    "papermill": {
     "duration": 0.0788,
     "end_time": "2022-05-12T05:36:02.217022",
     "exception": false,
     "start_time": "2022-05-12T05:36:02.138222",
     "status": "completed"
    },
    "tags": []
   },
   "outputs": [],
   "source": [
    "X = df_final.drop(columns=['income'])\n",
    "y = df_final['income']"
   ]
  },
  {
   "cell_type": "code",
   "execution_count": 19,
   "id": "dc2c7dca",
   "metadata": {
    "execution": {
     "iopub.execute_input": "2022-05-12T05:36:02.348365Z",
     "iopub.status.busy": "2022-05-12T05:36:02.347676Z",
     "iopub.status.idle": "2022-05-12T05:36:02.364233Z",
     "shell.execute_reply": "2022-05-12T05:36:02.364799Z",
     "shell.execute_reply.started": "2022-05-12T05:07:06.685316Z"
    },
    "papermill": {
     "duration": 0.083692,
     "end_time": "2022-05-12T05:36:02.364976",
     "exception": false,
     "start_time": "2022-05-12T05:36:02.281284",
     "status": "completed"
    },
    "tags": []
   },
   "outputs": [],
   "source": [
    "X_train, X_test, y_train, y_test = train_test_split(X, y, test_size=0.3)"
   ]
  },
  {
   "cell_type": "code",
   "execution_count": 20,
   "id": "13f18f4d",
   "metadata": {
    "execution": {
     "iopub.execute_input": "2022-05-12T05:36:02.491738Z",
     "iopub.status.busy": "2022-05-12T05:36:02.490718Z",
     "iopub.status.idle": "2022-05-12T05:36:02.517278Z",
     "shell.execute_reply": "2022-05-12T05:36:02.517856Z",
     "shell.execute_reply.started": "2022-05-12T05:07:06.703770Z"
    },
    "papermill": {
     "duration": 0.091275,
     "end_time": "2022-05-12T05:36:02.518061",
     "exception": false,
     "start_time": "2022-05-12T05:36:02.426786",
     "status": "completed"
    },
    "tags": []
   },
   "outputs": [],
   "source": [
    "# creating scaler and new standardized train and test data frames.\n",
    "scaler = MinMaxScaler()\n",
    "\n",
    "X_train_numeral = scaler.fit_transform(X_train.select_dtypes(['float', 'int64']))\n",
    "X_train_s = pd.concat([pd.DataFrame(X_train_numeral, index=X_train.index, columns=X_train.columns[:6]), \n",
    "                       X_train.iloc[:, 6:]], axis=1)\n",
    "\n",
    "X_test_numeral = scaler.transform(X_test.select_dtypes(['float', 'int64']))\n",
    "X_test_s = pd.concat([pd.DataFrame(X_test_numeral, index=X_test.index, columns=X_test.columns[:6]),\n",
    "                      X_test.iloc[:, 6:]], axis=1)"
   ]
  },
  {
   "cell_type": "code",
   "execution_count": 21,
   "id": "a7cf4656",
   "metadata": {
    "execution": {
     "iopub.execute_input": "2022-05-12T05:36:02.646032Z",
     "iopub.status.busy": "2022-05-12T05:36:02.643256Z",
     "iopub.status.idle": "2022-05-12T05:36:02.663620Z",
     "shell.execute_reply": "2022-05-12T05:36:02.662918Z",
     "shell.execute_reply.started": "2022-05-12T05:07:06.732860Z"
    },
    "papermill": {
     "duration": 0.084515,
     "end_time": "2022-05-12T05:36:02.663785",
     "exception": false,
     "start_time": "2022-05-12T05:36:02.579270",
     "status": "completed"
    },
    "tags": []
   },
   "outputs": [
    {
     "data": {
      "text/html": [
       "<div>\n",
       "<style scoped>\n",
       "    .dataframe tbody tr th:only-of-type {\n",
       "        vertical-align: middle;\n",
       "    }\n",
       "\n",
       "    .dataframe tbody tr th {\n",
       "        vertical-align: top;\n",
       "    }\n",
       "\n",
       "    .dataframe thead th {\n",
       "        text-align: right;\n",
       "    }\n",
       "</style>\n",
       "<table border=\"1\" class=\"dataframe\">\n",
       "  <thead>\n",
       "    <tr style=\"text-align: right;\">\n",
       "      <th></th>\n",
       "      <th>age</th>\n",
       "      <th>fnlwgt</th>\n",
       "      <th>education-num</th>\n",
       "      <th>capital-gain</th>\n",
       "      <th>capital-loss</th>\n",
       "      <th>hours-per-week</th>\n",
       "      <th>workclass_ Federal-gov</th>\n",
       "      <th>workclass_ Local-gov</th>\n",
       "      <th>workclass_ Private</th>\n",
       "      <th>workclass_ Self-emp-inc</th>\n",
       "      <th>...</th>\n",
       "      <th>native-country_ Portugal</th>\n",
       "      <th>native-country_ Puerto-Rico</th>\n",
       "      <th>native-country_ Scotland</th>\n",
       "      <th>native-country_ South</th>\n",
       "      <th>native-country_ Taiwan</th>\n",
       "      <th>native-country_ Thailand</th>\n",
       "      <th>native-country_ Trinadad&amp;Tobago</th>\n",
       "      <th>native-country_ United-States</th>\n",
       "      <th>native-country_ Vietnam</th>\n",
       "      <th>native-country_ Yugoslavia</th>\n",
       "    </tr>\n",
       "  </thead>\n",
       "  <tbody>\n",
       "    <tr>\n",
       "      <th>24973</th>\n",
       "      <td>33</td>\n",
       "      <td>133876</td>\n",
       "      <td>9</td>\n",
       "      <td>0</td>\n",
       "      <td>0</td>\n",
       "      <td>40</td>\n",
       "      <td>0</td>\n",
       "      <td>1</td>\n",
       "      <td>0</td>\n",
       "      <td>0</td>\n",
       "      <td>...</td>\n",
       "      <td>0</td>\n",
       "      <td>0</td>\n",
       "      <td>0</td>\n",
       "      <td>0</td>\n",
       "      <td>0</td>\n",
       "      <td>0</td>\n",
       "      <td>0</td>\n",
       "      <td>1</td>\n",
       "      <td>0</td>\n",
       "      <td>0</td>\n",
       "    </tr>\n",
       "    <tr>\n",
       "      <th>25780</th>\n",
       "      <td>23</td>\n",
       "      <td>230315</td>\n",
       "      <td>10</td>\n",
       "      <td>0</td>\n",
       "      <td>0</td>\n",
       "      <td>40</td>\n",
       "      <td>0</td>\n",
       "      <td>0</td>\n",
       "      <td>1</td>\n",
       "      <td>0</td>\n",
       "      <td>...</td>\n",
       "      <td>0</td>\n",
       "      <td>0</td>\n",
       "      <td>0</td>\n",
       "      <td>0</td>\n",
       "      <td>0</td>\n",
       "      <td>0</td>\n",
       "      <td>0</td>\n",
       "      <td>0</td>\n",
       "      <td>0</td>\n",
       "      <td>0</td>\n",
       "    </tr>\n",
       "    <tr>\n",
       "      <th>21518</th>\n",
       "      <td>23</td>\n",
       "      <td>246965</td>\n",
       "      <td>12</td>\n",
       "      <td>0</td>\n",
       "      <td>0</td>\n",
       "      <td>12</td>\n",
       "      <td>0</td>\n",
       "      <td>0</td>\n",
       "      <td>1</td>\n",
       "      <td>0</td>\n",
       "      <td>...</td>\n",
       "      <td>0</td>\n",
       "      <td>0</td>\n",
       "      <td>0</td>\n",
       "      <td>0</td>\n",
       "      <td>0</td>\n",
       "      <td>0</td>\n",
       "      <td>0</td>\n",
       "      <td>1</td>\n",
       "      <td>0</td>\n",
       "      <td>0</td>\n",
       "    </tr>\n",
       "    <tr>\n",
       "      <th>5968</th>\n",
       "      <td>54</td>\n",
       "      <td>51048</td>\n",
       "      <td>9</td>\n",
       "      <td>0</td>\n",
       "      <td>0</td>\n",
       "      <td>40</td>\n",
       "      <td>1</td>\n",
       "      <td>0</td>\n",
       "      <td>0</td>\n",
       "      <td>0</td>\n",
       "      <td>...</td>\n",
       "      <td>0</td>\n",
       "      <td>0</td>\n",
       "      <td>0</td>\n",
       "      <td>0</td>\n",
       "      <td>0</td>\n",
       "      <td>0</td>\n",
       "      <td>0</td>\n",
       "      <td>1</td>\n",
       "      <td>0</td>\n",
       "      <td>0</td>\n",
       "    </tr>\n",
       "    <tr>\n",
       "      <th>28600</th>\n",
       "      <td>24</td>\n",
       "      <td>143436</td>\n",
       "      <td>10</td>\n",
       "      <td>0</td>\n",
       "      <td>0</td>\n",
       "      <td>24</td>\n",
       "      <td>0</td>\n",
       "      <td>0</td>\n",
       "      <td>1</td>\n",
       "      <td>0</td>\n",
       "      <td>...</td>\n",
       "      <td>0</td>\n",
       "      <td>0</td>\n",
       "      <td>0</td>\n",
       "      <td>0</td>\n",
       "      <td>0</td>\n",
       "      <td>0</td>\n",
       "      <td>0</td>\n",
       "      <td>1</td>\n",
       "      <td>0</td>\n",
       "      <td>0</td>\n",
       "    </tr>\n",
       "  </tbody>\n",
       "</table>\n",
       "<p>5 rows × 104 columns</p>\n",
       "</div>"
      ],
      "text/plain": [
       "       age  fnlwgt  education-num  capital-gain  capital-loss  hours-per-week  \\\n",
       "24973   33  133876              9             0             0              40   \n",
       "25780   23  230315             10             0             0              40   \n",
       "21518   23  246965             12             0             0              12   \n",
       "5968    54   51048              9             0             0              40   \n",
       "28600   24  143436             10             0             0              24   \n",
       "\n",
       "       workclass_ Federal-gov  workclass_ Local-gov  workclass_ Private  \\\n",
       "24973                       0                     1                   0   \n",
       "25780                       0                     0                   1   \n",
       "21518                       0                     0                   1   \n",
       "5968                        1                     0                   0   \n",
       "28600                       0                     0                   1   \n",
       "\n",
       "       workclass_ Self-emp-inc  ...  native-country_ Portugal  \\\n",
       "24973                        0  ...                         0   \n",
       "25780                        0  ...                         0   \n",
       "21518                        0  ...                         0   \n",
       "5968                         0  ...                         0   \n",
       "28600                        0  ...                         0   \n",
       "\n",
       "       native-country_ Puerto-Rico  native-country_ Scotland  \\\n",
       "24973                            0                         0   \n",
       "25780                            0                         0   \n",
       "21518                            0                         0   \n",
       "5968                             0                         0   \n",
       "28600                            0                         0   \n",
       "\n",
       "       native-country_ South  native-country_ Taiwan  \\\n",
       "24973                      0                       0   \n",
       "25780                      0                       0   \n",
       "21518                      0                       0   \n",
       "5968                       0                       0   \n",
       "28600                      0                       0   \n",
       "\n",
       "       native-country_ Thailand  native-country_ Trinadad&Tobago  \\\n",
       "24973                         0                                0   \n",
       "25780                         0                                0   \n",
       "21518                         0                                0   \n",
       "5968                          0                                0   \n",
       "28600                         0                                0   \n",
       "\n",
       "       native-country_ United-States  native-country_ Vietnam  \\\n",
       "24973                              1                        0   \n",
       "25780                              0                        0   \n",
       "21518                              1                        0   \n",
       "5968                               1                        0   \n",
       "28600                              1                        0   \n",
       "\n",
       "       native-country_ Yugoslavia  \n",
       "24973                           0  \n",
       "25780                           0  \n",
       "21518                           0  \n",
       "5968                            0  \n",
       "28600                           0  \n",
       "\n",
       "[5 rows x 104 columns]"
      ]
     },
     "execution_count": 21,
     "metadata": {},
     "output_type": "execute_result"
    }
   ],
   "source": [
    "X_train.head()"
   ]
  },
  {
   "cell_type": "code",
   "execution_count": 22,
   "id": "4212d164",
   "metadata": {
    "execution": {
     "iopub.execute_input": "2022-05-12T05:36:02.794700Z",
     "iopub.status.busy": "2022-05-12T05:36:02.793956Z",
     "iopub.status.idle": "2022-05-12T05:36:02.795773Z",
     "shell.execute_reply": "2022-05-12T05:36:02.796269Z",
     "shell.execute_reply.started": "2022-05-12T05:07:06.754803Z"
    },
    "papermill": {
     "duration": 0.071253,
     "end_time": "2022-05-12T05:36:02.796461",
     "exception": false,
     "start_time": "2022-05-12T05:36:02.725208",
     "status": "completed"
    },
    "tags": []
   },
   "outputs": [],
   "source": [
    "# function responsible for fitting and predicting algorithms given through lists.\n",
    "def algoritm_score_list(show_processing=False, standardized=False):\n",
    "    scores_list = []\n",
    "\n",
    "    for algorithm in algorithms:\n",
    "        if show_processing:\n",
    "            print('processing ' + str(algorithm) + ' algorithm...')\n",
    "\n",
    "        if standardized:\n",
    "            X_tn = X_train_s\n",
    "            X_tt = X_test_s\n",
    "        else:\n",
    "            X_tn = X_train\n",
    "            X_tt = X_test\n",
    "            \n",
    "        A = algorithm.fit(X_tn, y_train)\n",
    "        y_predict = A.predict(X_tt)\n",
    "        accuracy = accuracy_score(y_test,y_predict)\n",
    "\n",
    "        scores_list.append([A, accuracy, standardized])\n",
    "        \n",
    "    print('all predictions finished')\n",
    "    return scores_list"
   ]
  },
  {
   "cell_type": "markdown",
   "id": "157c9631",
   "metadata": {
    "papermill": {
     "duration": 0.062485,
     "end_time": "2022-05-12T05:36:02.920979",
     "exception": false,
     "start_time": "2022-05-12T05:36:02.858494",
     "status": "completed"
    },
    "tags": []
   },
   "source": [
    "# 3. Modeling"
   ]
  },
  {
   "cell_type": "code",
   "execution_count": 23,
   "id": "eab3ca21",
   "metadata": {
    "execution": {
     "iopub.execute_input": "2022-05-12T05:36:03.049367Z",
     "iopub.status.busy": "2022-05-12T05:36:03.048719Z",
     "iopub.status.idle": "2022-05-12T05:36:03.050519Z",
     "shell.execute_reply": "2022-05-12T05:36:03.050984Z",
     "shell.execute_reply.started": "2022-05-12T05:07:06.762658Z"
    },
    "papermill": {
     "duration": 0.068731,
     "end_time": "2022-05-12T05:36:03.051164",
     "exception": false,
     "start_time": "2022-05-12T05:36:02.982433",
     "status": "completed"
    },
    "scrolled": true,
    "tags": []
   },
   "outputs": [],
   "source": [
    "algorithms = [DecisionTreeClassifier(),\n",
    "              LogisticRegression(solver='liblinear'), \n",
    "              KNeighborsClassifier()]"
   ]
  },
  {
   "cell_type": "code",
   "execution_count": 24,
   "id": "58a4e144",
   "metadata": {
    "execution": {
     "iopub.execute_input": "2022-05-12T05:36:03.181062Z",
     "iopub.status.busy": "2022-05-12T05:36:03.179738Z",
     "iopub.status.idle": "2022-05-12T05:36:05.256377Z",
     "shell.execute_reply": "2022-05-12T05:36:05.257236Z",
     "shell.execute_reply.started": "2022-05-12T05:07:06.775744Z"
    },
    "papermill": {
     "duration": 2.145343,
     "end_time": "2022-05-12T05:36:05.257451",
     "exception": false,
     "start_time": "2022-05-12T05:36:03.112108",
     "status": "completed"
    },
    "tags": []
   },
   "outputs": [
    {
     "name": "stdout",
     "output_type": "stream",
     "text": [
      "all predictions finished\n"
     ]
    }
   ],
   "source": [
    "# default algorithms\n",
    "default_alg = algoritm_score_list()"
   ]
  },
  {
   "cell_type": "code",
   "execution_count": 25,
   "id": "83b0c47a",
   "metadata": {
    "execution": {
     "iopub.execute_input": "2022-05-12T05:36:05.388835Z",
     "iopub.status.busy": "2022-05-12T05:36:05.388113Z",
     "iopub.status.idle": "2022-05-12T05:36:31.240099Z",
     "shell.execute_reply": "2022-05-12T05:36:31.240894Z",
     "shell.execute_reply.started": "2022-05-12T05:07:08.631334Z"
    },
    "papermill": {
     "duration": 25.918386,
     "end_time": "2022-05-12T05:36:31.241145",
     "exception": false,
     "start_time": "2022-05-12T05:36:05.322759",
     "status": "completed"
    },
    "tags": []
   },
   "outputs": [
    {
     "name": "stdout",
     "output_type": "stream",
     "text": [
      "all predictions finished\n"
     ]
    }
   ],
   "source": [
    "# default algorithms, standardized data\n",
    "default_alg_s = algoritm_score_list(standardized=True)"
   ]
  },
  {
   "cell_type": "code",
   "execution_count": 26,
   "id": "2dfdc365",
   "metadata": {
    "execution": {
     "iopub.execute_input": "2022-05-12T05:36:31.370465Z",
     "iopub.status.busy": "2022-05-12T05:36:31.369794Z",
     "iopub.status.idle": "2022-05-12T05:36:31.388994Z",
     "shell.execute_reply": "2022-05-12T05:36:31.389770Z",
     "shell.execute_reply.started": "2022-05-12T05:07:35.236705Z"
    },
    "papermill": {
     "duration": 0.085471,
     "end_time": "2022-05-12T05:36:31.390004",
     "exception": false,
     "start_time": "2022-05-12T05:36:31.304533",
     "status": "completed"
    },
    "scrolled": true,
    "tags": []
   },
   "outputs": [
    {
     "data": {
      "text/html": [
       "<div>\n",
       "<style scoped>\n",
       "    .dataframe tbody tr th:only-of-type {\n",
       "        vertical-align: middle;\n",
       "    }\n",
       "\n",
       "    .dataframe tbody tr th {\n",
       "        vertical-align: top;\n",
       "    }\n",
       "\n",
       "    .dataframe thead th {\n",
       "        text-align: right;\n",
       "    }\n",
       "</style>\n",
       "<table border=\"1\" class=\"dataframe\">\n",
       "  <thead>\n",
       "    <tr style=\"text-align: right;\">\n",
       "      <th></th>\n",
       "      <th>algorithm</th>\n",
       "      <th>accuracy</th>\n",
       "      <th>standardized</th>\n",
       "    </tr>\n",
       "  </thead>\n",
       "  <tbody>\n",
       "    <tr>\n",
       "      <th>4</th>\n",
       "      <td>LogisticRegression(solver='liblinear')</td>\n",
       "      <td>0.845</td>\n",
       "      <td>True</td>\n",
       "    </tr>\n",
       "    <tr>\n",
       "      <th>5</th>\n",
       "      <td>KNeighborsClassifier()</td>\n",
       "      <td>0.816</td>\n",
       "      <td>True</td>\n",
       "    </tr>\n",
       "    <tr>\n",
       "      <th>0</th>\n",
       "      <td>DecisionTreeClassifier()</td>\n",
       "      <td>0.811</td>\n",
       "      <td>False</td>\n",
       "    </tr>\n",
       "    <tr>\n",
       "      <th>3</th>\n",
       "      <td>DecisionTreeClassifier()</td>\n",
       "      <td>0.810</td>\n",
       "      <td>True</td>\n",
       "    </tr>\n",
       "    <tr>\n",
       "      <th>1</th>\n",
       "      <td>LogisticRegression(solver='liblinear')</td>\n",
       "      <td>0.792</td>\n",
       "      <td>False</td>\n",
       "    </tr>\n",
       "    <tr>\n",
       "      <th>2</th>\n",
       "      <td>KNeighborsClassifier()</td>\n",
       "      <td>0.765</td>\n",
       "      <td>False</td>\n",
       "    </tr>\n",
       "  </tbody>\n",
       "</table>\n",
       "</div>"
      ],
      "text/plain": [
       "                                algorithm  accuracy  standardized\n",
       "4  LogisticRegression(solver='liblinear')     0.845          True\n",
       "5                  KNeighborsClassifier()     0.816          True\n",
       "0                DecisionTreeClassifier()     0.811         False\n",
       "3                DecisionTreeClassifier()     0.810          True\n",
       "1  LogisticRegression(solver='liblinear')     0.792         False\n",
       "2                  KNeighborsClassifier()     0.765         False"
      ]
     },
     "execution_count": 26,
     "metadata": {},
     "output_type": "execute_result"
    }
   ],
   "source": [
    "df_alg = pd.DataFrame(default_alg, columns=['algorithm', 'accuracy', 'standardized'])\n",
    "df_alg = pd.concat([df_alg, \n",
    "                    pd.DataFrame(default_alg_s, columns=['algorithm', 'accuracy', 'standardized'])], \n",
    "                   axis=0, \n",
    "                   ignore_index=True)\n",
    "df_alg.sort_values(by='accuracy', ascending=False)"
   ]
  },
  {
   "cell_type": "markdown",
   "id": "d0a4cef9",
   "metadata": {
    "papermill": {
     "duration": 0.061694,
     "end_time": "2022-05-12T05:36:31.514640",
     "exception": false,
     "start_time": "2022-05-12T05:36:31.452946",
     "status": "completed"
    },
    "tags": []
   },
   "source": [
    "As it can be observed after standardization there is an improvement of accuracy in LogisticRegression and KNeighborsClassifier. As for DecisionTreeClassifier, unstandardized data doesn't influence accuracy. In the following examples standardized data will be used if there was a bigger accuracy after standardization. Additionally, I will use it in LogisticRegression and KNeighborsClassifier."
   ]
  },
  {
   "cell_type": "markdown",
   "id": "73c817a8",
   "metadata": {
    "papermill": {
     "duration": 0.061558,
     "end_time": "2022-05-12T05:36:31.638239",
     "exception": false,
     "start_time": "2022-05-12T05:36:31.576681",
     "status": "completed"
    },
    "tags": []
   },
   "source": [
    "## 3.1 Tuning DecisionTree\n",
    "While this is one of my first times using DecisionTreeClassifier and I'm not sure how to fix all parameters I will try to maximaize accuracy by changing max_depth and min_samples_leaf parameters. I will also check the accuracy of two criterion: gini and entropy."
   ]
  },
  {
   "cell_type": "markdown",
   "id": "ef7d587b",
   "metadata": {
    "papermill": {
     "duration": 0.0615,
     "end_time": "2022-05-12T05:36:31.762168",
     "exception": false,
     "start_time": "2022-05-12T05:36:31.700668",
     "status": "completed"
    },
    "tags": []
   },
   "source": [
    "### 3.1.1 max_depth"
   ]
  },
  {
   "cell_type": "code",
   "execution_count": 27,
   "id": "514e39c0",
   "metadata": {
    "execution": {
     "iopub.execute_input": "2022-05-12T05:36:31.890724Z",
     "iopub.status.busy": "2022-05-12T05:36:31.890013Z",
     "iopub.status.idle": "2022-05-12T05:36:43.681558Z",
     "shell.execute_reply": "2022-05-12T05:36:43.682167Z",
     "shell.execute_reply.started": "2022-05-12T05:07:35.260538Z"
    },
    "papermill": {
     "duration": 11.857394,
     "end_time": "2022-05-12T05:36:43.682343",
     "exception": false,
     "start_time": "2022-05-12T05:36:31.824949",
     "status": "completed"
    },
    "tags": []
   },
   "outputs": [
    {
     "name": "stdout",
     "output_type": "stream",
     "text": [
      "all predictions finished\n"
     ]
    }
   ],
   "source": [
    "# max_depth in already created DT\n",
    "depth = default_alg[0][0].get_depth()\n",
    "\n",
    "algorithms = []\n",
    "for i in range(1, depth+1):\n",
    "    algorithms.append(DecisionTreeClassifier(max_depth=i))\n",
    "score_list = algoritm_score_list()"
   ]
  },
  {
   "cell_type": "code",
   "execution_count": 28,
   "id": "bfaf6c00",
   "metadata": {
    "execution": {
     "iopub.execute_input": "2022-05-12T05:36:43.816968Z",
     "iopub.status.busy": "2022-05-12T05:36:43.816246Z",
     "iopub.status.idle": "2022-05-12T05:36:44.080254Z",
     "shell.execute_reply": "2022-05-12T05:36:44.079710Z",
     "shell.execute_reply.started": "2022-05-12T05:07:45.633897Z"
    },
    "papermill": {
     "duration": 0.335173,
     "end_time": "2022-05-12T05:36:44.080433",
     "exception": false,
     "start_time": "2022-05-12T05:36:43.745260",
     "status": "completed"
    },
    "scrolled": true,
    "tags": []
   },
   "outputs": [
    {
     "data": {
      "text/plain": [
       "[<matplotlib.lines.Line2D at 0x7f5a78cc16d0>]"
      ]
     },
     "execution_count": 28,
     "metadata": {},
     "output_type": "execute_result"
    },
    {
     "data": {
      "image/png": "[encoded data removed]",
      "text/plain": [
       "<Figure size 504x504 with 1 Axes>"
      ]
     },
     "metadata": {
      "needs_background": "light"
     },
     "output_type": "display_data"
    }
   ],
   "source": [
    "scores = list(map(lambda a: a[1], score_list))\n",
    "fig = plt.figure(figsize=(7, 7))\n",
    "plt.grid(b=True)\n",
    "sns.lineplot(x=range(1, depth+1), y=scores)\n",
    "plt.plot(scores.index(max(scores)) + 1, max(scores), \"or\")"
   ]
  },
  {
   "cell_type": "code",
   "execution_count": 29,
   "id": "9de2c2cc",
   "metadata": {
    "execution": {
     "iopub.execute_input": "2022-05-12T05:36:44.216315Z",
     "iopub.status.busy": "2022-05-12T05:36:44.215629Z",
     "iopub.status.idle": "2022-05-12T05:36:44.221516Z",
     "shell.execute_reply": "2022-05-12T05:36:44.220344Z",
     "shell.execute_reply.started": "2022-05-12T05:07:45.878627Z"
    },
    "papermill": {
     "duration": 0.077663,
     "end_time": "2022-05-12T05:36:44.221681",
     "exception": false,
     "start_time": "2022-05-12T05:36:44.144018",
     "status": "completed"
    },
    "tags": []
   },
   "outputs": [
    {
     "name": "stdout",
     "output_type": "stream",
     "text": [
      "The best algorithm: DecisionTreeClassifier(max_depth=8), its accuracy: 0.853\n"
     ]
    }
   ],
   "source": [
    "print('The best algorithm: DecisionTreeClassifier(max_depth={}), its accuracy: {}'.format(scores.index(max(scores)) + 1, round(max(scores), 3)))"
   ]
  },
  {
   "cell_type": "markdown",
   "id": "d46159c3",
   "metadata": {
    "papermill": {
     "duration": 0.067839,
     "end_time": "2022-05-12T05:36:44.354601",
     "exception": false,
     "start_time": "2022-05-12T05:36:44.286762",
     "status": "completed"
    },
    "tags": []
   },
   "source": [
    "The graph shows that default depth overfitted the algorithm. A proper max_depth that maximaize accuracy is around 9."
   ]
  },
  {
   "cell_type": "markdown",
   "id": "d972fc15",
   "metadata": {
    "papermill": {
     "duration": 0.064457,
     "end_time": "2022-05-12T05:36:44.483353",
     "exception": false,
     "start_time": "2022-05-12T05:36:44.418896",
     "status": "completed"
    },
    "tags": []
   },
   "source": [
    "### 3.1.2 min_samples_leaf"
   ]
  },
  {
   "cell_type": "code",
   "execution_count": 30,
   "id": "9d9e4433",
   "metadata": {
    "execution": {
     "iopub.execute_input": "2022-05-12T05:36:44.614622Z",
     "iopub.status.busy": "2022-05-12T05:36:44.613827Z",
     "iopub.status.idle": "2022-05-12T05:36:44.620525Z",
     "shell.execute_reply": "2022-05-12T05:36:44.619949Z",
     "shell.execute_reply.started": "2022-05-12T05:07:45.885118Z"
    },
    "papermill": {
     "duration": 0.073453,
     "end_time": "2022-05-12T05:36:44.620679",
     "exception": false,
     "start_time": "2022-05-12T05:36:44.547226",
     "status": "completed"
    },
    "tags": []
   },
   "outputs": [
    {
     "data": {
      "text/plain": [
       "1"
      ]
     },
     "execution_count": 30,
     "metadata": {},
     "output_type": "execute_result"
    }
   ],
   "source": [
    "# min_samples_leaf in already created DT\n",
    "default_alg[0][0].get_params()['min_samples_leaf']"
   ]
  },
  {
   "cell_type": "code",
   "execution_count": 31,
   "id": "e15df6c2",
   "metadata": {
    "execution": {
     "iopub.execute_input": "2022-05-12T05:36:44.761195Z",
     "iopub.status.busy": "2022-05-12T05:36:44.760484Z",
     "iopub.status.idle": "2022-05-12T05:36:52.802097Z",
     "shell.execute_reply": "2022-05-12T05:36:52.802893Z",
     "shell.execute_reply.started": "2022-05-12T05:07:45.899104Z"
    },
    "papermill": {
     "duration": 8.115576,
     "end_time": "2022-05-12T05:36:52.803152",
     "exception": false,
     "start_time": "2022-05-12T05:36:44.687576",
     "status": "completed"
    },
    "tags": []
   },
   "outputs": [
    {
     "name": "stdout",
     "output_type": "stream",
     "text": [
      "all predictions finished\n"
     ]
    }
   ],
   "source": [
    "algorithms = []\n",
    "for i in range(1, 202, 5):\n",
    "    algorithms.append(DecisionTreeClassifier(min_samples_leaf=i))\n",
    "score_list = algoritm_score_list()"
   ]
  },
  {
   "cell_type": "code",
   "execution_count": 32,
   "id": "30b31193",
   "metadata": {
    "execution": {
     "iopub.execute_input": "2022-05-12T05:36:52.943594Z",
     "iopub.status.busy": "2022-05-12T05:36:52.942816Z",
     "iopub.status.idle": "2022-05-12T05:36:53.227923Z",
     "shell.execute_reply": "2022-05-12T05:36:53.227192Z",
     "shell.execute_reply.started": "2022-05-12T05:07:52.971166Z"
    },
    "papermill": {
     "duration": 0.355142,
     "end_time": "2022-05-12T05:36:53.228093",
     "exception": false,
     "start_time": "2022-05-12T05:36:52.872951",
     "status": "completed"
    },
    "tags": []
   },
   "outputs": [
    {
     "data": {
      "text/plain": [
       "[<matplotlib.lines.Line2D at 0x7f5a78bd2990>]"
      ]
     },
     "execution_count": 32,
     "metadata": {},
     "output_type": "execute_result"
    },
    {
     "data": {
      "image/png": "[encoded data removed]",
      "text/plain": [
       "<Figure size 504x504 with 1 Axes>"
      ]
     },
     "metadata": {
      "needs_background": "light"
     },
     "output_type": "display_data"
    }
   ],
   "source": [
    "scores = list(map(lambda a: a[1], score_list))\n",
    "fig = plt.figure(figsize=(7, 7))\n",
    "plt.grid(b=True)\n",
    "sns.lineplot(x=range(1, 202, 5), y=scores)\n",
    "plt.plot(scores.index(max(scores))*5 + 1, max(scores), \"or\")"
   ]
  },
  {
   "cell_type": "code",
   "execution_count": 33,
   "id": "796ca436",
   "metadata": {
    "execution": {
     "iopub.execute_input": "2022-05-12T05:36:53.373548Z",
     "iopub.status.busy": "2022-05-12T05:36:53.372687Z",
     "iopub.status.idle": "2022-05-12T05:36:53.376612Z",
     "shell.execute_reply": "2022-05-12T05:36:53.376005Z",
     "shell.execute_reply.started": "2022-05-12T05:07:53.200443Z"
    },
    "papermill": {
     "duration": 0.078036,
     "end_time": "2022-05-12T05:36:53.376759",
     "exception": false,
     "start_time": "2022-05-12T05:36:53.298723",
     "status": "completed"
    },
    "tags": []
   },
   "outputs": [
    {
     "name": "stdout",
     "output_type": "stream",
     "text": [
      "The best algorithm: DecisionTreeClassifier(min_samples_leaf=26), its accuracy: 0.852\n"
     ]
    }
   ],
   "source": [
    "print('The best algorithm: DecisionTreeClassifier(min_samples_leaf={}), its accuracy: {}'.format(scores.index(max(scores))*5 + 1, round(max(scores), 3)))"
   ]
  },
  {
   "cell_type": "markdown",
   "id": "830e8083",
   "metadata": {
    "papermill": {
     "duration": 0.067934,
     "end_time": "2022-05-12T05:36:53.512060",
     "exception": false,
     "start_time": "2022-05-12T05:36:53.444126",
     "status": "completed"
    },
    "tags": []
   },
   "source": [
    "The graph shows that default min_samples_leaf overfitted the algorithm. A proper min_samples_leaf that increases accuracy should be bigger than 25 and smaller than 170 (it really depends on train and test spliting)."
   ]
  },
  {
   "cell_type": "markdown",
   "id": "d806ab2b",
   "metadata": {
    "papermill": {
     "duration": 0.06787,
     "end_time": "2022-05-12T05:36:53.657662",
     "exception": false,
     "start_time": "2022-05-12T05:36:53.589792",
     "status": "completed"
    },
    "tags": []
   },
   "source": [
    "### 3.1.3 max_depth and min_samples_leaf"
   ]
  },
  {
   "cell_type": "code",
   "execution_count": 34,
   "id": "117ee899",
   "metadata": {
    "execution": {
     "iopub.execute_input": "2022-05-12T05:36:53.796651Z",
     "iopub.status.busy": "2022-05-12T05:36:53.795875Z",
     "iopub.status.idle": "2022-05-12T05:37:07.817514Z",
     "shell.execute_reply": "2022-05-12T05:37:07.816746Z",
     "shell.execute_reply.started": "2022-05-12T05:07:53.208517Z"
    },
    "papermill": {
     "duration": 14.091658,
     "end_time": "2022-05-12T05:37:07.817670",
     "exception": false,
     "start_time": "2022-05-12T05:36:53.726012",
     "status": "completed"
    },
    "scrolled": true,
    "tags": []
   },
   "outputs": [
    {
     "name": "stdout",
     "output_type": "stream",
     "text": [
      "all predictions finished\n"
     ]
    }
   ],
   "source": [
    "algorithms = []\n",
    "for i in range(4, 30, 3):\n",
    "    for j in range(45, 86, 5):\n",
    "         algorithms.append(DecisionTreeClassifier(max_depth=i, min_samples_leaf=j))\n",
    "score_list = algoritm_score_list()   "
   ]
  },
  {
   "cell_type": "code",
   "execution_count": 35,
   "id": "d69e6e85",
   "metadata": {
    "execution": {
     "iopub.execute_input": "2022-05-12T05:37:07.961265Z",
     "iopub.status.busy": "2022-05-12T05:37:07.960617Z",
     "iopub.status.idle": "2022-05-12T05:37:07.981878Z",
     "shell.execute_reply": "2022-05-12T05:37:07.982372Z",
     "shell.execute_reply.started": "2022-05-12T05:08:05.434423Z"
    },
    "papermill": {
     "duration": 0.092686,
     "end_time": "2022-05-12T05:37:07.982584",
     "exception": false,
     "start_time": "2022-05-12T05:37:07.889898",
     "status": "completed"
    },
    "scrolled": true,
    "tags": []
   },
   "outputs": [],
   "source": [
    "max_depth = list(map(lambda a: a[0].get_params()['max_depth'], score_list))\n",
    "min_samples_leaf = list(map(lambda a: a[0].get_params()['min_samples_leaf'], score_list))\n",
    "scores = list(map(lambda a: a[1], score_list))\n",
    "\n",
    "df = pd.DataFrame(np.array([max_depth, min_samples_leaf, scores]).T, \n",
    "                  columns=['max_depth', 'min_s_l', 'scores'])"
   ]
  },
  {
   "cell_type": "code",
   "execution_count": 36,
   "id": "d43a8e01",
   "metadata": {
    "execution": {
     "iopub.execute_input": "2022-05-12T05:37:08.127834Z",
     "iopub.status.busy": "2022-05-12T05:37:08.127092Z",
     "iopub.status.idle": "2022-05-12T05:37:08.585798Z",
     "shell.execute_reply": "2022-05-12T05:37:08.585123Z",
     "shell.execute_reply.started": "2022-05-12T05:08:05.459242Z"
    },
    "papermill": {
     "duration": 0.536587,
     "end_time": "2022-05-12T05:37:08.585946",
     "exception": false,
     "start_time": "2022-05-12T05:37:08.049359",
     "status": "completed"
    },
    "scrolled": true,
    "tags": []
   },
   "outputs": [
    {
     "data": {
      "text/plain": [
       "<matplotlib.legend.Legend at 0x7f5a78bba650>"
      ]
     },
     "execution_count": 36,
     "metadata": {},
     "output_type": "execute_result"
    },
    {
     "data": {
      "image/png": "[encoded data removed]",
      "text/plain": [
       "<Figure size 504x504 with 1 Axes>"
      ]
     },
     "metadata": {
      "needs_background": "light"
     },
     "output_type": "display_data"
    }
   ],
   "source": [
    "fig = plt.figure(figsize=(7, 7))\n",
    "sns.scatterplot(x=df['max_depth'], y=df['min_s_l'], hue=df['scores'], s=300)\n",
    "plt.legend(loc='lower left')"
   ]
  },
  {
   "cell_type": "code",
   "execution_count": 37,
   "id": "3fbe9875",
   "metadata": {
    "execution": {
     "iopub.execute_input": "2022-05-12T05:37:08.730841Z",
     "iopub.status.busy": "2022-05-12T05:37:08.730034Z",
     "iopub.status.idle": "2022-05-12T05:37:08.732822Z",
     "shell.execute_reply": "2022-05-12T05:37:08.733333Z",
     "shell.execute_reply.started": "2022-05-12T05:08:05.880960Z"
    },
    "papermill": {
     "duration": 0.07845,
     "end_time": "2022-05-12T05:37:08.733527",
     "exception": false,
     "start_time": "2022-05-12T05:37:08.655077",
     "status": "completed"
    },
    "scrolled": true,
    "tags": []
   },
   "outputs": [
    {
     "name": "stdout",
     "output_type": "stream",
     "text": [
      "The best algorithm: DecisionTreeClassifier(max_depth=16, min_samples_leaf=55), its accuracy: 0.851\n"
     ]
    }
   ],
   "source": [
    "best = scores.index(max(scores))\n",
    "m_d = max_depth[best]\n",
    "m_s_l = min_samples_leaf[best]\n",
    "print('The best algorithm: DecisionTreeClassifier(max_depth={}, min_samples_leaf={}), its accuracy: {}'.format(m_d, m_s_l, round(max(scores), 3)))"
   ]
  },
  {
   "cell_type": "markdown",
   "id": "6a2faca0",
   "metadata": {
    "papermill": {
     "duration": 0.069102,
     "end_time": "2022-05-12T05:37:08.871804",
     "exception": false,
     "start_time": "2022-05-12T05:37:08.802702",
     "status": "completed"
    },
    "tags": []
   },
   "source": [
    "### 3.1.4 criterion"
   ]
  },
  {
   "cell_type": "code",
   "execution_count": 38,
   "id": "f8a3144d",
   "metadata": {
    "execution": {
     "iopub.execute_input": "2022-05-12T05:37:09.023878Z",
     "iopub.status.busy": "2022-05-12T05:37:09.018162Z",
     "iopub.status.idle": "2022-05-12T05:37:09.633287Z",
     "shell.execute_reply": "2022-05-12T05:37:09.634046Z",
     "shell.execute_reply.started": "2022-05-12T05:08:05.888256Z"
    },
    "papermill": {
     "duration": 0.691499,
     "end_time": "2022-05-12T05:37:09.634306",
     "exception": false,
     "start_time": "2022-05-12T05:37:08.942807",
     "status": "completed"
    },
    "tags": []
   },
   "outputs": [
    {
     "name": "stdout",
     "output_type": "stream",
     "text": [
      "all predictions finished\n",
      "criterion: gini, score: 0.812.\n",
      "criterion: entropy, score: 0.812.\n"
     ]
    }
   ],
   "source": [
    "algorithms = [DecisionTreeClassifier(criterion='gini'), DecisionTreeClassifier(criterion='entropy')]\n",
    "score_list = algoritm_score_list()   \n",
    "print('criterion: gini, score: {}.'.format(str(round(score_list[0][1], 3))))\n",
    "print('criterion: entropy, score: {}.'.format(str(round(score_list[1][1], 3))))"
   ]
  },
  {
   "cell_type": "markdown",
   "id": "a2871ccb",
   "metadata": {
    "papermill": {
     "duration": 0.069936,
     "end_time": "2022-05-12T05:37:09.775555",
     "exception": false,
     "start_time": "2022-05-12T05:37:09.705619",
     "status": "completed"
    },
    "tags": []
   },
   "source": [
    "My criterion comparison showed that there is no huge difference between gini and entropy in this particular dataset. Consequently, I use the default criterion: gini."
   ]
  },
  {
   "cell_type": "markdown",
   "id": "b690e57a",
   "metadata": {
    "papermill": {
     "duration": 0.076713,
     "end_time": "2022-05-12T05:37:09.927014",
     "exception": false,
     "start_time": "2022-05-12T05:37:09.850301",
     "status": "completed"
    },
    "tags": []
   },
   "source": [
    "### 3.1.5 Algorithms comparison "
   ]
  },
  {
   "cell_type": "code",
   "execution_count": 39,
   "id": "34b433d6",
   "metadata": {
    "execution": {
     "iopub.execute_input": "2022-05-12T05:37:10.096653Z",
     "iopub.status.busy": "2022-05-12T05:37:10.095939Z",
     "iopub.status.idle": "2022-05-12T05:37:10.666169Z",
     "shell.execute_reply": "2022-05-12T05:37:10.666696Z",
     "shell.execute_reply.started": "2022-05-12T05:08:06.445446Z"
    },
    "papermill": {
     "duration": 0.647875,
     "end_time": "2022-05-12T05:37:10.666871",
     "exception": false,
     "start_time": "2022-05-12T05:37:10.018996",
     "status": "completed"
    },
    "tags": []
   },
   "outputs": [
    {
     "name": "stdout",
     "output_type": "stream",
     "text": [
      "all predictions finished\n"
     ]
    },
    {
     "data": {
      "text/html": [
       "<div>\n",
       "<style scoped>\n",
       "    .dataframe tbody tr th:only-of-type {\n",
       "        vertical-align: middle;\n",
       "    }\n",
       "\n",
       "    .dataframe tbody tr th {\n",
       "        vertical-align: top;\n",
       "    }\n",
       "\n",
       "    .dataframe thead th {\n",
       "        text-align: right;\n",
       "    }\n",
       "</style>\n",
       "<table border=\"1\" class=\"dataframe\">\n",
       "  <thead>\n",
       "    <tr style=\"text-align: right;\">\n",
       "      <th></th>\n",
       "      <th>algorithm</th>\n",
       "      <th>accuracy</th>\n",
       "      <th>standardized</th>\n",
       "    </tr>\n",
       "  </thead>\n",
       "  <tbody>\n",
       "    <tr>\n",
       "      <th>0</th>\n",
       "      <td>DecisionTreeClassifier(max_depth=9)</td>\n",
       "      <td>0.853</td>\n",
       "      <td>False</td>\n",
       "    </tr>\n",
       "    <tr>\n",
       "      <th>1</th>\n",
       "      <td>DecisionTreeClassifier(min_samples_leaf=66)</td>\n",
       "      <td>0.845</td>\n",
       "      <td>False</td>\n",
       "    </tr>\n",
       "    <tr>\n",
       "      <th>2</th>\n",
       "      <td>DecisionTreeClassifier(max_depth=16, min_sampl...</td>\n",
       "      <td>0.846</td>\n",
       "      <td>False</td>\n",
       "    </tr>\n",
       "  </tbody>\n",
       "</table>\n",
       "</div>"
      ],
      "text/plain": [
       "                                           algorithm  accuracy  standardized\n",
       "0                DecisionTreeClassifier(max_depth=9)     0.853         False\n",
       "1        DecisionTreeClassifier(min_samples_leaf=66)     0.845         False\n",
       "2  DecisionTreeClassifier(max_depth=16, min_sampl...     0.846         False"
      ]
     },
     "execution_count": 39,
     "metadata": {},
     "output_type": "execute_result"
    }
   ],
   "source": [
    "algorithms = [DecisionTreeClassifier(criterion='gini', max_depth=9), \n",
    "              DecisionTreeClassifier(criterion='gini', min_samples_leaf=66), \n",
    "              DecisionTreeClassifier(criterion='gini', max_depth=16, min_samples_leaf=65)]\n",
    "df_DT = pd.DataFrame(algoritm_score_list(), columns=['algorithm', 'accuracy', 'standardized'])\n",
    "df_DT"
   ]
  },
  {
   "cell_type": "markdown",
   "id": "786eae64",
   "metadata": {
    "papermill": {
     "duration": 0.071705,
     "end_time": "2022-05-12T05:37:10.814192",
     "exception": false,
     "start_time": "2022-05-12T05:37:10.742487",
     "status": "completed"
    },
    "tags": []
   },
   "source": [
    "As for accuracy there isn't a huge difference between these three DecisionTrees. All of them have accuracy similar to 0.85. However, for the final test of all algorithms I will use DecissionTree with max_depth and min_samples_leaf specified."
   ]
  },
  {
   "cell_type": "markdown",
   "id": "778d4a04",
   "metadata": {
    "papermill": {
     "duration": 0.076473,
     "end_time": "2022-05-12T05:37:10.962010",
     "exception": false,
     "start_time": "2022-05-12T05:37:10.885537",
     "status": "completed"
    },
    "tags": []
   },
   "source": [
    "## 3.2 Tuning LogisticRegression\n",
    "As for LogiticRegression I will try to fix penalty and C parameters."
   ]
  },
  {
   "cell_type": "code",
   "execution_count": 40,
   "id": "1976aa64",
   "metadata": {
    "execution": {
     "iopub.execute_input": "2022-05-12T05:37:11.110237Z",
     "iopub.status.busy": "2022-05-12T05:37:11.109127Z",
     "iopub.status.idle": "2022-05-12T05:37:20.214912Z",
     "shell.execute_reply": "2022-05-12T05:37:20.215976Z",
     "shell.execute_reply.started": "2022-05-12T05:08:06.928802Z"
    },
    "papermill": {
     "duration": 9.180995,
     "end_time": "2022-05-12T05:37:20.216363",
     "exception": false,
     "start_time": "2022-05-12T05:37:11.035368",
     "status": "completed"
    },
    "scrolled": true,
    "tags": []
   },
   "outputs": [
    {
     "name": "stdout",
     "output_type": "stream",
     "text": [
      "all predictions finished\n"
     ]
    },
    {
     "data": {
      "text/html": [
       "<div>\n",
       "<style scoped>\n",
       "    .dataframe tbody tr th:only-of-type {\n",
       "        vertical-align: middle;\n",
       "    }\n",
       "\n",
       "    .dataframe tbody tr th {\n",
       "        vertical-align: top;\n",
       "    }\n",
       "\n",
       "    .dataframe thead th {\n",
       "        text-align: right;\n",
       "    }\n",
       "</style>\n",
       "<table border=\"1\" class=\"dataframe\">\n",
       "  <thead>\n",
       "    <tr style=\"text-align: right;\">\n",
       "      <th></th>\n",
       "      <th>algorithm</th>\n",
       "      <th>accuracy</th>\n",
       "      <th>standardized</th>\n",
       "    </tr>\n",
       "  </thead>\n",
       "  <tbody>\n",
       "    <tr>\n",
       "      <th>0</th>\n",
       "      <td>LogisticRegression(penalty='l1', solver='libli...</td>\n",
       "      <td>0.847</td>\n",
       "      <td>True</td>\n",
       "    </tr>\n",
       "    <tr>\n",
       "      <th>1</th>\n",
       "      <td>LogisticRegression(solver='liblinear')</td>\n",
       "      <td>0.845</td>\n",
       "      <td>True</td>\n",
       "    </tr>\n",
       "  </tbody>\n",
       "</table>\n",
       "</div>"
      ],
      "text/plain": [
       "                                           algorithm  accuracy  standardized\n",
       "0  LogisticRegression(penalty='l1', solver='libli...     0.847          True\n",
       "1             LogisticRegression(solver='liblinear')     0.845          True"
      ]
     },
     "execution_count": 40,
     "metadata": {},
     "output_type": "execute_result"
    }
   ],
   "source": [
    "algorithms = []\n",
    "for p in ['l1', 'l2']:\n",
    "    algorithms.append(LogisticRegression(solver='liblinear', penalty=p))\n",
    "    \n",
    "df_LR_penalty = pd.DataFrame(algoritm_score_list(standardized=True), columns=['algorithm', 'accuracy', 'standardized'])\n",
    "df_LR_penalty"
   ]
  },
  {
   "cell_type": "markdown",
   "id": "fff1f0a1",
   "metadata": {
    "papermill": {
     "duration": 0.072212,
     "end_time": "2022-05-12T05:37:20.426981",
     "exception": false,
     "start_time": "2022-05-12T05:37:20.354769",
     "status": "completed"
    },
    "tags": []
   },
   "source": [
    "Scores in both LogisticRegressions are similar. While I have to choose one of them I decided to use 'l1'."
   ]
  },
  {
   "cell_type": "code",
   "execution_count": 41,
   "id": "9b3ea0dd",
   "metadata": {
    "execution": {
     "iopub.execute_input": "2022-05-12T05:37:20.586969Z",
     "iopub.status.busy": "2022-05-12T05:37:20.583989Z",
     "iopub.status.idle": "2022-05-12T05:37:35.861292Z",
     "shell.execute_reply": "2022-05-12T05:37:35.859694Z",
     "shell.execute_reply.started": "2022-05-12T05:08:14.415177Z"
    },
    "papermill": {
     "duration": 15.359314,
     "end_time": "2022-05-12T05:37:35.861574",
     "exception": false,
     "start_time": "2022-05-12T05:37:20.502260",
     "status": "completed"
    },
    "scrolled": true,
    "tags": []
   },
   "outputs": [
    {
     "name": "stdout",
     "output_type": "stream",
     "text": [
      "all predictions finished\n"
     ]
    },
    {
     "data": {
      "text/html": [
       "<div>\n",
       "<style scoped>\n",
       "    .dataframe tbody tr th:only-of-type {\n",
       "        vertical-align: middle;\n",
       "    }\n",
       "\n",
       "    .dataframe tbody tr th {\n",
       "        vertical-align: top;\n",
       "    }\n",
       "\n",
       "    .dataframe thead th {\n",
       "        text-align: right;\n",
       "    }\n",
       "</style>\n",
       "<table border=\"1\" class=\"dataframe\">\n",
       "  <thead>\n",
       "    <tr style=\"text-align: right;\">\n",
       "      <th></th>\n",
       "      <th>algorithm</th>\n",
       "      <th>accuracy</th>\n",
       "      <th>standardized</th>\n",
       "    </tr>\n",
       "  </thead>\n",
       "  <tbody>\n",
       "    <tr>\n",
       "      <th>0</th>\n",
       "      <td>LogisticRegression(C=100, penalty='l1', solver...</td>\n",
       "      <td>0.847</td>\n",
       "      <td>True</td>\n",
       "    </tr>\n",
       "    <tr>\n",
       "      <th>1</th>\n",
       "      <td>LogisticRegression(C=10, penalty='l1', solver=...</td>\n",
       "      <td>0.847</td>\n",
       "      <td>True</td>\n",
       "    </tr>\n",
       "    <tr>\n",
       "      <th>2</th>\n",
       "      <td>LogisticRegression(penalty='l1', solver='libli...</td>\n",
       "      <td>0.847</td>\n",
       "      <td>True</td>\n",
       "    </tr>\n",
       "    <tr>\n",
       "      <th>3</th>\n",
       "      <td>LogisticRegression(C=0.1, penalty='l1', solver...</td>\n",
       "      <td>0.842</td>\n",
       "      <td>True</td>\n",
       "    </tr>\n",
       "    <tr>\n",
       "      <th>4</th>\n",
       "      <td>LogisticRegression(C=0.01, penalty='l1', solve...</td>\n",
       "      <td>0.814</td>\n",
       "      <td>True</td>\n",
       "    </tr>\n",
       "  </tbody>\n",
       "</table>\n",
       "</div>"
      ],
      "text/plain": [
       "                                           algorithm  accuracy  standardized\n",
       "0  LogisticRegression(C=100, penalty='l1', solver...     0.847          True\n",
       "1  LogisticRegression(C=10, penalty='l1', solver=...     0.847          True\n",
       "2  LogisticRegression(penalty='l1', solver='libli...     0.847          True\n",
       "3  LogisticRegression(C=0.1, penalty='l1', solver...     0.842          True\n",
       "4  LogisticRegression(C=0.01, penalty='l1', solve...     0.814          True"
      ]
     },
     "execution_count": 41,
     "metadata": {},
     "output_type": "execute_result"
    }
   ],
   "source": [
    "algorithms = []\n",
    "for c in [100, 10, 1.0, 0.1, 0.01]:\n",
    "    algorithms.append(LogisticRegression(solver='liblinear', penalty='l1', C=c))\n",
    "\n",
    "df_LR = pd.DataFrame(algoritm_score_list(standardized=True), columns=['algorithm', 'accuracy', 'standardized'])\n",
    "df_LR"
   ]
  },
  {
   "cell_type": "markdown",
   "id": "c2037158",
   "metadata": {
    "papermill": {
     "duration": 0.071856,
     "end_time": "2022-05-12T05:37:36.047363",
     "exception": false,
     "start_time": "2022-05-12T05:37:35.975507",
     "status": "completed"
    },
    "tags": []
   },
   "source": [
    "The final LogisticRegression algorithm is LogisticRegression(C=10, penalty='l1', solver='liblinear')."
   ]
  },
  {
   "cell_type": "markdown",
   "id": "e93638d3",
   "metadata": {
    "papermill": {
     "duration": 0.07245,
     "end_time": "2022-05-12T05:37:36.191823",
     "exception": false,
     "start_time": "2022-05-12T05:37:36.119373",
     "status": "completed"
    },
    "tags": []
   },
   "source": [
    "## 3.3 Tuning KNeighborsClassifier\n",
    "I will try to optimize two parameters in this algorithm: weights and n_neighbors."
   ]
  },
  {
   "cell_type": "code",
   "execution_count": 42,
   "id": "69ac7316",
   "metadata": {
    "execution": {
     "iopub.execute_input": "2022-05-12T05:37:36.346749Z",
     "iopub.status.busy": "2022-05-12T05:37:36.345913Z",
     "iopub.status.idle": "2022-05-12T05:38:27.495961Z",
     "shell.execute_reply": "2022-05-12T05:38:27.495429Z",
     "shell.execute_reply.started": "2022-05-12T05:08:28.920346Z"
    },
    "papermill": {
     "duration": 51.231096,
     "end_time": "2022-05-12T05:38:27.496093",
     "exception": false,
     "start_time": "2022-05-12T05:37:36.264997",
     "status": "completed"
    },
    "scrolled": true,
    "tags": []
   },
   "outputs": [
    {
     "name": "stdout",
     "output_type": "stream",
     "text": [
      "all predictions finished\n"
     ]
    },
    {
     "data": {
      "text/html": [
       "<div>\n",
       "<style scoped>\n",
       "    .dataframe tbody tr th:only-of-type {\n",
       "        vertical-align: middle;\n",
       "    }\n",
       "\n",
       "    .dataframe tbody tr th {\n",
       "        vertical-align: top;\n",
       "    }\n",
       "\n",
       "    .dataframe thead th {\n",
       "        text-align: right;\n",
       "    }\n",
       "</style>\n",
       "<table border=\"1\" class=\"dataframe\">\n",
       "  <thead>\n",
       "    <tr style=\"text-align: right;\">\n",
       "      <th></th>\n",
       "      <th>algorithm</th>\n",
       "      <th>accuracy</th>\n",
       "      <th>standardized</th>\n",
       "    </tr>\n",
       "  </thead>\n",
       "  <tbody>\n",
       "    <tr>\n",
       "      <th>0</th>\n",
       "      <td>KNeighborsClassifier()</td>\n",
       "      <td>0.816</td>\n",
       "      <td>True</td>\n",
       "    </tr>\n",
       "    <tr>\n",
       "      <th>1</th>\n",
       "      <td>KNeighborsClassifier(weights='distance')</td>\n",
       "      <td>0.811</td>\n",
       "      <td>True</td>\n",
       "    </tr>\n",
       "  </tbody>\n",
       "</table>\n",
       "</div>"
      ],
      "text/plain": [
       "                                  algorithm  accuracy  standardized\n",
       "0                    KNeighborsClassifier()     0.816          True\n",
       "1  KNeighborsClassifier(weights='distance')     0.811          True"
      ]
     },
     "execution_count": 42,
     "metadata": {},
     "output_type": "execute_result"
    }
   ],
   "source": [
    "algorithms = [KNeighborsClassifier(weights='uniform'), \n",
    "              KNeighborsClassifier(weights='distance')]\n",
    "df_KN_weights = pd.DataFrame(algoritm_score_list(standardized=True), columns=['algorithm', 'accuracy', 'standardized'])\n",
    "df_KN_weights"
   ]
  },
  {
   "cell_type": "markdown",
   "id": "f484bcb5",
   "metadata": {
    "papermill": {
     "duration": 0.072094,
     "end_time": "2022-05-12T05:38:27.640694",
     "exception": false,
     "start_time": "2022-05-12T05:38:27.568600",
     "status": "completed"
    },
    "tags": []
   },
   "source": [
    "I will use default weights parameter."
   ]
  },
  {
   "cell_type": "code",
   "execution_count": 43,
   "id": "c075833b",
   "metadata": {
    "execution": {
     "iopub.execute_input": "2022-05-12T05:38:27.795064Z",
     "iopub.status.busy": "2022-05-12T05:38:27.794343Z",
     "iopub.status.idle": "2022-05-12T05:44:06.149693Z",
     "shell.execute_reply": "2022-05-12T05:44:06.150213Z",
     "shell.execute_reply.started": "2022-05-12T05:09:18.383940Z"
    },
    "papermill": {
     "duration": 338.437186,
     "end_time": "2022-05-12T05:44:06.150425",
     "exception": false,
     "start_time": "2022-05-12T05:38:27.713239",
     "status": "completed"
    },
    "tags": []
   },
   "outputs": [
    {
     "name": "stdout",
     "output_type": "stream",
     "text": [
      "all predictions finished\n"
     ]
    }
   ],
   "source": [
    "algorithms = []\n",
    "for i in range(1, 50, 5):\n",
    "    algorithms.append(KNeighborsClassifier(n_neighbors=i))\n",
    "    \n",
    "df_KN_n_neighbors = pd.DataFrame(algoritm_score_list(standardized=True), columns=['algorithm', 'accuracy', 'standardized'])"
   ]
  },
  {
   "cell_type": "code",
   "execution_count": 44,
   "id": "12ada6a6",
   "metadata": {
    "execution": {
     "iopub.execute_input": "2022-05-12T05:44:06.322782Z",
     "iopub.status.busy": "2022-05-12T05:44:06.302844Z",
     "iopub.status.idle": "2022-05-12T05:44:06.503131Z",
     "shell.execute_reply": "2022-05-12T05:44:06.503798Z",
     "shell.execute_reply.started": "2022-05-12T05:14:37.668082Z"
    },
    "papermill": {
     "duration": 0.280707,
     "end_time": "2022-05-12T05:44:06.503983",
     "exception": false,
     "start_time": "2022-05-12T05:44:06.223276",
     "status": "completed"
    },
    "tags": []
   },
   "outputs": [
    {
     "data": {
      "text/plain": [
       "[<matplotlib.lines.Line2D at 0x7f5a78a47750>]"
      ]
     },
     "execution_count": 44,
     "metadata": {},
     "output_type": "execute_result"
    },
    {
     "data": {
      "image/png": "[encoded data removed]",
      "text/plain": [
       "<Figure size 504x504 with 1 Axes>"
      ]
     },
     "metadata": {
      "needs_background": "light"
     },
     "output_type": "display_data"
    }
   ],
   "source": [
    "fig = plt.figure(figsize=(7, 7))\n",
    "plt.grid(b=True)\n",
    "sns.lineplot(x=range(1, 50, 5), y=df_KN_n_neighbors['accuracy'])\n",
    "plt.plot(df_KN_n_neighbors[df_KN_n_neighbors['accuracy'] == max(df_KN_n_neighbors['accuracy'])].index.values[0]*5+1,\n",
    "         max(df_KN_n_neighbors['accuracy']),\n",
    "         \"or\")"
   ]
  },
  {
   "cell_type": "markdown",
   "id": "f888dc96",
   "metadata": {
    "papermill": {
     "duration": 0.074824,
     "end_time": "2022-05-12T05:44:06.654837",
     "exception": false,
     "start_time": "2022-05-12T05:44:06.580013",
     "status": "completed"
    },
    "tags": []
   },
   "source": [
    "It took so much time but I really wanted to see results. For n_neighbors parameter equal to about 46 there is the biggest accuracy."
   ]
  },
  {
   "cell_type": "markdown",
   "id": "fc5ef9f6",
   "metadata": {
    "papermill": {
     "duration": 0.074056,
     "end_time": "2022-05-12T05:44:06.803314",
     "exception": false,
     "start_time": "2022-05-12T05:44:06.729258",
     "status": "completed"
    },
    "tags": []
   },
   "source": [
    "# 4 Final comparison and summary"
   ]
  },
  {
   "cell_type": "code",
   "execution_count": 45,
   "id": "6ecad95b",
   "metadata": {
    "execution": {
     "iopub.execute_input": "2022-05-12T05:44:06.965536Z",
     "iopub.status.busy": "2022-05-12T05:44:06.964504Z",
     "iopub.status.idle": "2022-05-12T05:44:11.232774Z",
     "shell.execute_reply": "2022-05-12T05:44:11.233254Z",
     "shell.execute_reply.started": "2022-05-12T05:14:37.931523Z"
    },
    "papermill": {
     "duration": 4.355104,
     "end_time": "2022-05-12T05:44:11.233447",
     "exception": false,
     "start_time": "2022-05-12T05:44:06.878343",
     "status": "completed"
    },
    "tags": []
   },
   "outputs": [
    {
     "name": "stdout",
     "output_type": "stream",
     "text": [
      "all predictions finished\n"
     ]
    }
   ],
   "source": [
    "algorithms = [DecisionTreeClassifier(), \n",
    "              DecisionTreeClassifier(criterion='gini', max_depth=16, min_samples_leaf=65),\n",
    "              LogisticRegression(solver='liblinear'), \n",
    "              LogisticRegression(C=10, penalty='l1', solver='liblinear'),\n",
    "              KNeighborsClassifier(), \n",
    "              KNeighborsClassifier(n_neighbors=46)]\n",
    "\n",
    "final_list = algoritm_score_list()"
   ]
  },
  {
   "cell_type": "code",
   "execution_count": 46,
   "id": "b9ff4102",
   "metadata": {
    "execution": {
     "iopub.execute_input": "2022-05-12T05:44:11.387599Z",
     "iopub.status.busy": "2022-05-12T05:44:11.386638Z",
     "iopub.status.idle": "2022-05-12T05:45:21.426200Z",
     "shell.execute_reply": "2022-05-12T05:45:21.426758Z",
     "shell.execute_reply.started": "2022-05-12T05:14:41.690374Z"
    },
    "papermill": {
     "duration": 70.11804,
     "end_time": "2022-05-12T05:45:21.426946",
     "exception": false,
     "start_time": "2022-05-12T05:44:11.308906",
     "status": "completed"
    },
    "tags": []
   },
   "outputs": [
    {
     "name": "stdout",
     "output_type": "stream",
     "text": [
      "all predictions finished\n"
     ]
    }
   ],
   "source": [
    "algorithms = [DecisionTreeClassifier(), \n",
    "              DecisionTreeClassifier(criterion='gini', max_depth=16, min_samples_leaf=65),\n",
    "              LogisticRegression(solver='liblinear'), \n",
    "              LogisticRegression(C=10, penalty='l1', solver='liblinear'),\n",
    "              KNeighborsClassifier(), \n",
    "              KNeighborsClassifier(n_neighbors=46)]\n",
    "final_list = final_list + algoritm_score_list(standardized=True)"
   ]
  },
  {
   "cell_type": "code",
   "execution_count": 47,
   "id": "81a34680",
   "metadata": {
    "execution": {
     "iopub.execute_input": "2022-05-12T05:45:21.582007Z",
     "iopub.status.busy": "2022-05-12T05:45:21.580995Z",
     "iopub.status.idle": "2022-05-12T05:45:21.599881Z",
     "shell.execute_reply": "2022-05-12T05:45:21.599317Z",
     "shell.execute_reply.started": "2022-05-12T05:15:47.931925Z"
    },
    "papermill": {
     "duration": 0.09744,
     "end_time": "2022-05-12T05:45:21.600020",
     "exception": false,
     "start_time": "2022-05-12T05:45:21.502580",
     "status": "completed"
    },
    "tags": []
   },
   "outputs": [
    {
     "data": {
      "text/html": [
       "<div>\n",
       "<style scoped>\n",
       "    .dataframe tbody tr th:only-of-type {\n",
       "        vertical-align: middle;\n",
       "    }\n",
       "\n",
       "    .dataframe tbody tr th {\n",
       "        vertical-align: top;\n",
       "    }\n",
       "\n",
       "    .dataframe thead th {\n",
       "        text-align: right;\n",
       "    }\n",
       "</style>\n",
       "<table border=\"1\" class=\"dataframe\">\n",
       "  <thead>\n",
       "    <tr style=\"text-align: right;\">\n",
       "      <th></th>\n",
       "      <th>algorithm</th>\n",
       "      <th>accuracy</th>\n",
       "      <th>standardized</th>\n",
       "    </tr>\n",
       "  </thead>\n",
       "  <tbody>\n",
       "    <tr>\n",
       "      <th>3</th>\n",
       "      <td>LogisticRegression(C=10, penalty='l1', solver=...</td>\n",
       "      <td>0.847</td>\n",
       "      <td>False</td>\n",
       "    </tr>\n",
       "    <tr>\n",
       "      <th>9</th>\n",
       "      <td>LogisticRegression(C=10, penalty='l1', solver=...</td>\n",
       "      <td>0.847</td>\n",
       "      <td>True</td>\n",
       "    </tr>\n",
       "    <tr>\n",
       "      <th>1</th>\n",
       "      <td>DecisionTreeClassifier(max_depth=16, min_sampl...</td>\n",
       "      <td>0.846</td>\n",
       "      <td>False</td>\n",
       "    </tr>\n",
       "    <tr>\n",
       "      <th>7</th>\n",
       "      <td>DecisionTreeClassifier(max_depth=16, min_sampl...</td>\n",
       "      <td>0.846</td>\n",
       "      <td>True</td>\n",
       "    </tr>\n",
       "    <tr>\n",
       "      <th>8</th>\n",
       "      <td>LogisticRegression(solver='liblinear')</td>\n",
       "      <td>0.845</td>\n",
       "      <td>True</td>\n",
       "    </tr>\n",
       "    <tr>\n",
       "      <th>11</th>\n",
       "      <td>KNeighborsClassifier(n_neighbors=46)</td>\n",
       "      <td>0.828</td>\n",
       "      <td>True</td>\n",
       "    </tr>\n",
       "    <tr>\n",
       "      <th>10</th>\n",
       "      <td>KNeighborsClassifier()</td>\n",
       "      <td>0.816</td>\n",
       "      <td>True</td>\n",
       "    </tr>\n",
       "    <tr>\n",
       "      <th>0</th>\n",
       "      <td>DecisionTreeClassifier()</td>\n",
       "      <td>0.812</td>\n",
       "      <td>False</td>\n",
       "    </tr>\n",
       "    <tr>\n",
       "      <th>6</th>\n",
       "      <td>DecisionTreeClassifier()</td>\n",
       "      <td>0.809</td>\n",
       "      <td>True</td>\n",
       "    </tr>\n",
       "    <tr>\n",
       "      <th>2</th>\n",
       "      <td>LogisticRegression(solver='liblinear')</td>\n",
       "      <td>0.792</td>\n",
       "      <td>False</td>\n",
       "    </tr>\n",
       "    <tr>\n",
       "      <th>5</th>\n",
       "      <td>KNeighborsClassifier(n_neighbors=46)</td>\n",
       "      <td>0.789</td>\n",
       "      <td>False</td>\n",
       "    </tr>\n",
       "    <tr>\n",
       "      <th>4</th>\n",
       "      <td>KNeighborsClassifier()</td>\n",
       "      <td>0.765</td>\n",
       "      <td>False</td>\n",
       "    </tr>\n",
       "  </tbody>\n",
       "</table>\n",
       "</div>"
      ],
      "text/plain": [
       "                                            algorithm  accuracy  standardized\n",
       "3   LogisticRegression(C=10, penalty='l1', solver=...     0.847         False\n",
       "9   LogisticRegression(C=10, penalty='l1', solver=...     0.847          True\n",
       "1   DecisionTreeClassifier(max_depth=16, min_sampl...     0.846         False\n",
       "7   DecisionTreeClassifier(max_depth=16, min_sampl...     0.846          True\n",
       "8              LogisticRegression(solver='liblinear')     0.845          True\n",
       "11               KNeighborsClassifier(n_neighbors=46)     0.828          True\n",
       "10                             KNeighborsClassifier()     0.816          True\n",
       "0                            DecisionTreeClassifier()     0.812         False\n",
       "6                            DecisionTreeClassifier()     0.809          True\n",
       "2              LogisticRegression(solver='liblinear')     0.792         False\n",
       "5                KNeighborsClassifier(n_neighbors=46)     0.789         False\n",
       "4                              KNeighborsClassifier()     0.765         False"
      ]
     },
     "execution_count": 47,
     "metadata": {},
     "output_type": "execute_result"
    }
   ],
   "source": [
    "final_df = pd.DataFrame(final_list, columns=['algorithm', 'accuracy', 'standardized'])\n",
    "final_df.head(12).sort_values(by='accuracy', ascending=False)"
   ]
  },
  {
   "cell_type": "markdown",
   "id": "c9c27097",
   "metadata": {
    "papermill": {
     "duration": 0.075537,
     "end_time": "2022-05-12T05:45:21.750523",
     "exception": false,
     "start_time": "2022-05-12T05:45:21.674986",
     "status": "completed"
    },
    "tags": []
   },
   "source": [
    "DecisionTree and LogisticRegression with fixed parameters have the highest accuracy. Moreover, DecisionTree doesn't need standardized numeric data to work properly. As for DecisionTree, adding parameters increased accuracy by 3,5% in case of LogisticRegression this increase was much smaller. KNeighborsClassifier accuracy is smaller than the rest of algorithms. "
   ]
  }
 ],
 "metadata": {
  "kernelspec": {
   "display_name": "Python 3",
   "language": "python",
   "name": "python3"
  },
  "language_info": {
   "codemirror_mode": {
    "name": "ipython",
    "version": 3
   },
   "file_extension": ".py",
   "mimetype": "text/x-python",
   "name": "python",
   "nbconvert_exporter": "python",
   "pygments_lexer": "ipython3",
   "version": "3.7.10"
  },
  "papermill": {
   "default_parameters": {},
   "duration": 579.20659,
   "end_time": "2022-05-12T05:45:23.514562",
   "environment_variables": {},
   "exception": null,
   "input_path": "__notebook__.ipynb",
   "output_path": "__notebook__.ipynb",
   "parameters": {},
   "start_time": "2022-05-12T05:35:44.307972",
   "version": "2.3.3"
  }
 },
 "nbformat": 4,
 "nbformat_minor": 5
}
